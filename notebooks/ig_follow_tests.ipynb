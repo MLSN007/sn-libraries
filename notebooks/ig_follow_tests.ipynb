{
 "cells": [
  {
   "cell_type": "markdown",
   "metadata": {},
   "source": [
    "### 1 Gets the \"follows\" of a user with Hikerapi and saves them on a file\n",
    "### 2 filters them so they are only those that are public\n",
    "###       and are verifyed\n",
    "###       (no way to get the type of account: creative, business, personal,...)\n",
    "### 3 follows using Instagrapi the ones selected"
   ]
  },
  {
   "cell_type": "markdown",
   "metadata": {},
   "source": []
  },
  {
   "cell_type": "code",
   "execution_count": null,
   "metadata": {},
   "outputs": [],
   "source": [
    "# IG  Instagrapi To Follow the users got with Hikerapo tests.ipynb\n",
    "\n",
    "import os\n",
    "import logging\n",
    "import pandas as pd\n",
    "import json\n",
    "from ig_client import IgClient\n",
    "from ig_auth import authenticate_and_save_session\n",
    "from ig_follow_manager import IgFollowManager\n",
    "\n",
    "# Set up logging\n",
    "logging.basicConfig(level=logging.INFO)"
   ]
  },
  {
   "cell_type": "code",
   "execution_count": null,
   "metadata": {},
   "outputs": [],
   "source": [
    "\n",
    "# 1. Authentication (Always attempt authentication first)\n",
    "session_file = \"cl_ig.pkl\"\n",
    "if not os.path.exists(session_file):  \n",
    "    authenticate_and_save_session(session_file)\n",
    "\n",
    "# Create the Instagram client\n",
    "insta_client = IgClient(session_file)\n",
    "\n",
    "# Create the follow manager\n",
    "follow_manager = IgFollowManager(insta_client=insta_client)  \n"
   ]
  },
  {
   "cell_type": "code",
   "execution_count": null,
   "metadata": {},
   "outputs": [],
   "source": [
    "\n",
    "# 2. Fetch Following of a User\n",
    "user_to_check = \"47548556576\"  \n",
    "following_data = follow_manager.fetch_following(user_id=user_to_check)\n",
    "print(\"Fetched following data:\", len(following_data))\n"
   ]
  },
  {
   "cell_type": "code",
   "execution_count": null,
   "metadata": {},
   "outputs": [],
   "source": [
    "\n",
    "# 3. Save Following Data\n",
    "filename = f\"{user_to_check}_following_{len(following_data)}.json\"\n",
    "follow_manager.save_following_data(following_data, user_to_check, output_file=filename)\n"
   ]
  },
  {
   "cell_type": "code",
   "execution_count": null,
   "metadata": {},
   "outputs": [],
   "source": [
    "\n",
    "# 4. Load Following Data from File\n",
    "with open(filename, \"r\", encoding=\"utf-8\") as f:\n",
    "    following_data = json.load(f)\n"
   ]
  },
  {
   "cell_type": "code",
   "execution_count": null,
   "metadata": {},
   "outputs": [],
   "source": [
    "display(following_data)"
   ]
  },
  {
   "cell_type": "code",
   "execution_count": null,
   "metadata": {},
   "outputs": [],
   "source": [
    "\n",
    "# 5. Filter Users to Follow\n",
    "users_to_follow = [user for user in following_data if not user[\"is_private\"] and user[\"is_verified\"]]\n",
    "user_ids_to_follow = [user[\"pk\"] for user in users_to_follow]\n"
   ]
  },
  {
   "cell_type": "code",
   "execution_count": null,
   "metadata": {},
   "outputs": [],
   "source": [
    "print(len(user_ids_to_follow))"
   ]
  },
  {
   "cell_type": "code",
   "execution_count": null,
   "metadata": {},
   "outputs": [],
   "source": [
    "\n",
    "# 6. Follow Users (with rate limiting)\n",
    "follow_manager.follow_users(user_ids_to_follow)\n"
   ]
  },
  {
   "cell_type": "markdown",
   "metadata": {},
   "source": [
    "fetch Following of a User. the method stores the results in a file"
   ]
  },
  {
   "cell_type": "markdown",
   "metadata": {},
   "source": [
    "save the results"
   ]
  },
  {
   "cell_type": "markdown",
   "metadata": {},
   "source": [
    "Filter users to follow"
   ]
  },
  {
   "cell_type": "markdown",
   "metadata": {},
   "source": [
    "Follow users with a reate limit"
   ]
  },
  {
   "cell_type": "markdown",
   "metadata": {},
   "source": [
    "continue the following users"
   ]
  }
 ],
 "metadata": {
  "kernelspec": {
   "display_name": "sn-env",
   "language": "python",
   "name": "python3"
  },
  "language_info": {
   "codemirror_mode": {
    "name": "ipython",
    "version": 3
   },
   "file_extension": ".py",
   "mimetype": "text/x-python",
   "name": "python",
   "nbconvert_exporter": "python",
   "pygments_lexer": "ipython3",
   "version": "3.12.4"
  }
 },
 "nbformat": 4,
 "nbformat_minor": 2
}
