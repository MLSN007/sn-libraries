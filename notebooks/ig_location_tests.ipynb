{
 "cells": [
  {
   "cell_type": "code",
   "execution_count": 1,
   "metadata": {},
   "outputs": [],
   "source": [
    "import logging\n",
    "import json"
   ]
  },
  {
   "cell_type": "code",
   "execution_count": 2,
   "metadata": {},
   "outputs": [],
   "source": [
    "# from ig_auth import authenticate_and_save_session\n",
    "# from ig_config import Config\n",
    "from ig_client import IgClient\n",
    "\n",
    "from ig_utils import IgUtils"
   ]
  },
  {
   "cell_type": "code",
   "execution_count": 6,
   "metadata": {},
   "outputs": [
    {
     "name": "stderr",
     "output_type": "stream",
     "text": [
      "INFO:ig_config:Successfully loaded credentials for account JK\n"
     ]
    }
   ],
   "source": [
    "account_id = \"JK\"  # Replace with the actual account ID\n",
    "ig_client = IgClient(account_id)\n",
    "ig_utils = IgUtils(ig_client)"
   ]
  },
  {
   "cell_type": "code",
   "execution_count": 4,
   "metadata": {},
   "outputs": [],
   "source": [
    "# Configure logging (optional, but recommended)\n",
    "logging.basicConfig(\n",
    "    level=logging.INFO, format=\"%(asctime)s - %(levelname)s - %(message)s\"\n",
    ")"
   ]
  },
  {
   "cell_type": "code",
   "execution_count": null,
   "metadata": {},
   "outputs": [],
   "source": [
    "\n",
    "# Load project configuration file\n",
    "config_file_path = r\"C:\\Users\\manue\\Documents\\GitHubMLSN\\sn-libraries\\notebooks\\ig_JK_config.json\"  # Replace with the actual path\n",
    "config = Config(config_file_path=config_file_path)  # Create Config object with path\n",
    "username = config.get(\"username\")\n",
    "password = config.get(\"password\")\n",
    "\n",
    "# Authenticate using IgClient\n",
    "client = IgClient(session_file=config.get(\"settings_file_path\"))  \n",
    "client.login(username, password)"
   ]
  },
  {
   "cell_type": "markdown",
   "metadata": {},
   "source": [
    "Now, when you run main.py, it will:\n",
    "\n",
    " - Fetch location information based on PK and Print the location details to the console.\n",
    " - Fetch location information based on name and Print the location details to the console.\n",
    " - Fetch the top 2 locations based on name and Print the location details to the console.\n",
    " - Save the location information to the corresponding JSON files (location_by_pk.json, location_by_name.json or top_locations.json)."
   ]
  },
  {
   "cell_type": "code",
   "execution_count": 8,
   "metadata": {},
   "outputs": [
    {
     "name": "stderr",
     "output_type": "stream",
     "text": [
      "INFO:public_request:[None] [201] GET https://www.instagram.com/explore/locations/250765185/?__a=1&__d=dis\n",
      "ERROR:public_request:Status 201: JSONDecodeError in public_request (url=https://www.instagram.com/explore/locations/250765185/?__a=1&__d=dis) >>> \n",
      "INFO:public_request:[None] [201] GET https://www.instagram.com/explore/locations/250765185/?__a=1&__d=dis\n",
      "ERROR:public_request:Status 201: JSONDecodeError in public_request (url=https://www.instagram.com/explore/locations/250765185/?__a=1&__d=dis) >>> \n",
      "INFO:public_request:[None] [201] GET https://www.instagram.com/explore/locations/250765185/?__a=1&__d=dis\n",
      "ERROR:public_request:Status 201: JSONDecodeError in public_request (url=https://www.instagram.com/explore/locations/250765185/?__a=1&__d=dis) >>> \n",
      "INFO:instagrapi:https://i.instagram.com/api/v1/locations/250765185/location_info/\n",
      "INFO:private_request:johnklanick [200] GET https://i.instagram.com/api/v1/locations/250765185/location_info/ (269.0.0.18.75, OnePlus 6T Dev)\n",
      "INFO:root:Location found by PK 250765185: pk=250765185 name='Comas, Lima, Peru' phone='' website='http://lujo18.blogspot.com' category='Subcity' hours={'status': '', 'current_status': '', 'hours_today': '', 'schedule': [], 'is_open': False} address='' city='' zip='' lng=None lat=None external_id=108628399160343 external_id_source=None\n"
     ]
    }
   ],
   "source": [
    "# Fetch location by PK\n",
    "location_pk = \"250765185\"  # Get PK  or use None as default\n",
    "if location_pk:\n",
    "    location = ig_utils.get_location_by_pk(location_pk)\n",
    "    if location:\n",
    "        logging.info(f\"Location found by PK {location_pk}: {location}\")\n",
    "\n",
    "    else:\n",
    "        logging.warning(f\"Location not found by PK: {location_pk}\")"
   ]
  },
  {
   "cell_type": "code",
   "execution_count": 11,
   "metadata": {},
   "outputs": [
    {
     "name": "stderr",
     "output_type": "stream",
     "text": [
      "INFO:instagrapi:https://i.instagram.com/api/v1/fbsearch/places/\n",
      "INFO:private_request:johnklanick [200] GET https://i.instagram.com/api/v1/fbsearch/places/?search_surface=places_search_page&timezone_offset=-14400&lat=40.74&lng=-73.94&count=30&query=Huelva (269.0.0.18.75, OnePlus 6T Dev)\n",
      "INFO:root:Location found by name 'Huelva': pk=1024236954 name='Huelva Andalucia España' phone='' website='' category='' hours={} address='' city='' zip=None lng=-6.9688179529219 lat=37.37591690589 external_id=993813360661061 external_id_source='facebook_places'\n"
     ]
    }
   ],
   "source": [
    "# Fetch location by name\n",
    "location_name = \"Huelva\"\n",
    "location = ig_utils.get_locations_by_name(location_name)[1]  # Get the first result\n",
    "\n",
    "if location:\n",
    "    logging.info(f\"Location found by name '{location_name}': {location}\")\n",
    "\n",
    "else:\n",
    "    logging.warning(f\"No location found for '{location_name}'\")"
   ]
  },
  {
   "cell_type": "code",
   "execution_count": 13,
   "metadata": {},
   "outputs": [
    {
     "name": "stderr",
     "output_type": "stream",
     "text": [
      "INFO:instagrapi:https://i.instagram.com/api/v1/fbsearch/places/\n",
      "INFO:private_request:johnklanick [200] GET https://i.instagram.com/api/v1/fbsearch/places/?search_surface=places_search_page&timezone_offset=-14400&lat=40.74&lng=-73.94&count=30&query=Japan+Imperial+Palace (269.0.0.18.75, OnePlus 6T Dev)\n",
      "INFO:root:Top location found: {'pk': 15242489, 'name': 'Imperial Palace', 'address': '748 Manhattan Ave', 'lng': -73.9523, 'lat': 40.72668, 'external_id': 100877716624041, 'external_id_source': 'facebook_places', 'city': 'New York, New York', 'zip': None, 'category': '', 'phone': '', 'website': ''}\n",
      "INFO:root:Top location found: {'pk': 247124679, 'name': 'Imperial Palace Garden Tokyo, Japan', 'address': '千代田1番地', 'lng': 139.75715517998, 'lat': 35.686886433123, 'external_id': 105306576254175, 'external_id_source': 'facebook_places', 'city': 'Chiyoda', 'zip': None, 'category': '', 'phone': '', 'website': ''}\n",
      "INFO:root:Top location found: {'pk': 213036120, 'name': 'Tokyo Imperial Palace', 'address': '千代田1-1', 'lng': 139.7521, 'lat': 35.6825, 'external_id': 107016779335099, 'external_id_source': 'facebook_places', 'city': '', 'zip': None, 'category': '', 'phone': '', 'website': ''}\n",
      "INFO:root:Top location found: {'pk': 414022692480881, 'name': '皇居 (Imperial Palace)', 'address': '千代田1-1', 'lng': 139.7524166105, 'lat': 35.685094203922, 'external_id': 414022692480881, 'external_id_source': 'facebook_places', 'city': 'Chiyoda', 'zip': None, 'category': '', 'phone': '', 'website': ''}\n"
     ]
    }
   ],
   "source": [
    "# Fetch top 4 locations by name\n",
    "top_locations = ig_utils.get_top_locations_by_name(\"Japan Imperial Palace\", limit=4)\n",
    "\n",
    "if top_locations:\n",
    "    locations_data = []\n",
    "    for loc in top_locations:\n",
    "        location_dict = ig_utils.location_to_dict(loc)\n",
    "        locations_data.append(location_dict)\n",
    "        logging.info(f\"Top location found: {location_dict}\")\n",
    "\n",
    "else:\n",
    "    logging.warning(\"No top locations found.\")"
   ]
  }
 ],
 "metadata": {
  "kernelspec": {
   "display_name": "sn-env",
   "language": "python",
   "name": "python3"
  },
  "language_info": {
   "codemirror_mode": {
    "name": "ipython",
    "version": 3
   },
   "file_extension": ".py",
   "mimetype": "text/x-python",
   "name": "python",
   "nbconvert_exporter": "python",
   "pygments_lexer": "ipython3",
   "version": "3.12.4"
  }
 },
 "nbformat": 4,
 "nbformat_minor": 2
}
