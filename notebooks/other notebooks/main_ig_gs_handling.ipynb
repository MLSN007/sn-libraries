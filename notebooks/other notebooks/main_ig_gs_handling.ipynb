{
 "cells": [
  {
   "cell_type": "code",
   "execution_count": 1,
   "metadata": {},
   "outputs": [],
   "source": [
    "import warnings\n",
    "\n",
    "warnings.filterwarnings(\n",
    "    \"ignore\", message=\"file_cache is unavailable when using oauth2client >= 4.0.0\"\n",
    ")\n",
    "import logging\n",
    "from ig_gs_handling import IgGSHandling\n",
    "\n",
    "logging.basicConfig(\n",
    "    level=logging.DEBUG,  # Changed from INFO to DEBUG\n",
    "    format=\"%(asctime)s - %(name)s - %(levelname)s - %(message)s\",\n",
    ")\n",
    "logger = logging.getLogger(__name__)\n",
    "\n",
    "# Set logging level for google_sheets_handler to DEBUG\n",
    "logging.getLogger(\"google_sheets_handler\").setLevel(logging.DEBUG)"
   ]
  },
  {
   "cell_type": "code",
   "execution_count": 2,
   "metadata": {},
   "outputs": [
    {
     "name": "stderr",
     "output_type": "stream",
     "text": [
      "INFO:__main__:Starting Instagram Google Sheets handling process for account: JK\n"
     ]
    }
   ],
   "source": [
    "account_id = \"JK\"  # Replace with the actual account ID\n",
    "logger.info(\n",
    "    \"Starting Instagram Google Sheets handling process for account: %s\", account_id\n",
    ")"
   ]
  },
  {
   "cell_type": "code",
   "execution_count": 3,
   "metadata": {},
   "outputs": [
    {
     "name": "stderr",
     "output_type": "stream",
     "text": [
      "INFO:ig_config:Successfully loaded credentials for account JK\n",
      "INFO:__main__:IgGSHandling instance created successfully\n"
     ]
    },
    {
     "name": "stdout",
     "output_type": "stream",
     "text": [
      "Connecting to database at: C:\\Users\\manue\\Documents\\GitHub007\\sn-libraries\\data\\{account_id}_ig.db\n"
     ]
    }
   ],
   "source": [
    "try:\n",
    "    handler = IgGSHandling(account_id)\n",
    "    logger.info(\"IgGSHandling instance created successfully\")\n",
    "except Exception as e:\n",
    "    logger.error(\"Failed to create IgGSHandling instance: %s\", str(e))"
   ]
  },
  {
   "cell_type": "code",
   "execution_count": null,
   "metadata": {},
   "outputs": [],
   "source": [
    "try:\n",
    "    logger.info(\"Attempting to authenticate and set up...\")\n",
    "    if not handler.authenticate_and_setup():\n",
    "        logger.error(\"Failed to authenticate and set up. Exiting.\")\n",
    "        return\n",
    "    logger.info(\"Authentication and setup successful\")\n",
    "except Exception as e:\n",
    "    logger.error(\"Error during authentication and setup: %s\", str(e))"
   ]
  },
  {
   "cell_type": "code",
   "execution_count": null,
   "metadata": {},
   "outputs": [],
   "source": [
    "\n",
    "try:\n",
    "    logger.info(\"Updating location IDs\")\n",
    "    handler.update_location_ids()\n",
    "    logger.info(\"Location ID update complete\")\n",
    "except Exception as e:\n",
    "    logger.error(\"Error updating location IDs: %s\", str(e))\n"
   ]
  },
  {
   "cell_type": "code",
   "execution_count": null,
   "metadata": {},
   "outputs": [],
   "source": [
    "\n",
    "try:\n",
    "    logger.info(\"Updating music track IDs\")\n",
    "    handler.update_music_track_ids()\n",
    "    logger.info(\"Music track ID update complete\")\n",
    "except Exception as e:\n",
    "    logger.error(\"Error updating music track IDs: %s\", str(e))\n"
   ]
  },
  {
   "cell_type": "code",
   "execution_count": null,
   "metadata": {},
   "outputs": [],
   "source": [
    "\n",
    "try:\n",
    "    logger.info(\"Updating media paths\")\n",
    "    handler.update_media_paths()\n",
    "    logger.info(\"Media path update complete\")\n",
    "except Exception as e:\n",
    "    logger.error(\"Error updating media paths: %s\", str(e))\n"
   ]
  },
  {
   "cell_type": "code",
   "execution_count": 6,
   "metadata": {},
   "outputs": [
    {
     "name": "stderr",
     "output_type": "stream",
     "text": [
      "INFO:__main__:Syncing Google Sheet with SQLite database\n",
      "ERROR:__main__:Error during sync: 'NoneType' object is not iterable\n",
      "INFO:__main__:Instagram Google Sheets handling process completed\n"
     ]
    }
   ],
   "source": [
    "try:\n",
    "    logger.info(\"Syncing Google Sheet with SQLite database\")\n",
    "    handler.sync_google_sheet_with_db()\n",
    "    logger.info(\"Sync complete\")\n",
    "except Exception as e:\n",
    "    logger.error(\"Error during sync: %s\", str(e))\n",
    "\n",
    "logger.info(\"Instagram Google Sheets handling process completed\")"
   ]
  }
 ],
 "metadata": {
  "kernelspec": {
   "display_name": "sn-env",
   "language": "python",
   "name": "python3"
  },
  "language_info": {
   "codemirror_mode": {
    "name": "ipython",
    "version": 3
   },
   "file_extension": ".py",
   "mimetype": "text/x-python",
   "name": "python",
   "nbconvert_exporter": "python",
   "pygments_lexer": "ipython3",
   "version": "3.12.4"
  }
 },
 "nbformat": 4,
 "nbformat_minor": 2
}
