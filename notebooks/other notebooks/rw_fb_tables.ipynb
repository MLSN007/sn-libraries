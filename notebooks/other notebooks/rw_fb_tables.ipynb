{
 "cells": [
  {
   "cell_type": "code",
   "execution_count": null,
   "metadata": {},
   "outputs": [],
   "source": [
    "from google_sheets_rw import GoogleSheetsRW\n",
    "import datetime"
   ]
  },
  {
   "cell_type": "code",
   "execution_count": null,
   "metadata": {},
   "outputs": [],
   "source": [
    "# Initialize GoogleSheetsRW with your account ID and spreadsheet ID\n",
    "account_id = \"JK\"  # Replace with your actual account ID\n",
    "spreadsheet_id = \"1wrvG3wmptA76kywbVe1gy5as-ALDzmebLvqoxWIw9mw\"  # Replace with your actual spreadsheet ID\n",
    "gs_rw = GoogleSheetsRW(account_id, spreadsheet_id)"
   ]
  }
 ],
 "metadata": {
  "kernelspec": {
   "display_name": "sn-env",
   "language": "python",
   "name": "python3"
  },
  "language_info": {
   "codemirror_mode": {
    "name": "ipython",
    "version": 3
   },
   "file_extension": ".py",
   "mimetype": "text/x-python",
   "name": "python",
   "nbconvert_exporter": "python",
   "pygments_lexer": "ipython3",
   "version": "3.12.4"
  }
 },
 "nbformat": 4,
 "nbformat_minor": 2
}
