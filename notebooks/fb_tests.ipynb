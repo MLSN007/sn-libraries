{
 "cells": [
  {
   "cell_type": "markdown",
   "metadata": {},
   "source": [
    "##                 to run in all cases\n",
    "\n",
    "### imports"
   ]
  },
  {
   "cell_type": "code",
   "execution_count": 1,
   "metadata": {},
   "outputs": [],
   "source": [
    "import json, os\n",
    "from typing import Dict, Optional, Any, List\n",
    "from pprint import pprint\n",
    "import time\n",
    "\n",
    "from fb_api_client import FbApiClient\n",
    "from fb_post_manager import FbPostManager\n",
    "from fb_utils import FbUtils\n",
    "from fb_comment_manager import FbCommentManager\n",
    "\n",
    "# from fb_scraper import FbScraper\n",
    "\n",
    "import logging\n",
    "\n",
    "logging.basicConfig(level=logging.DEBUG)  # Set the logging level to DEBUG"
   ]
  },
  {
   "cell_type": "markdown",
   "metadata": {},
   "source": [
    "### Environmental Variables based on App and User/Page\n",
    "\n",
    "Use fb_create_json_config.py to create the JSON config file\n",
    "the structure of the file is User_Appname_PageName_config.json\n",
    "\n",
    "As I am running it from the Notebook, we need to use the relative directory ..\\\n"
   ]
  },
  {
   "cell_type": "code",
   "execution_count": 2,
   "metadata": {},
   "outputs": [],
   "source": [
    "config_file = r\"..\\config_files\\FB_JK_JK Travel_JK Travel_config.json\""
   ]
  },
  {
   "cell_type": "code",
   "execution_count": 3,
   "metadata": {},
   "outputs": [],
   "source": [
    "# load the JSON configuration\n",
    "def load_fb_config(config_file):\n",
    "    with open(config_file, \"r\") as f:\n",
    "        return json.load(f)\n",
    "\n",
    "\n",
    "fb_config = load_fb_config(config_file)\n",
    "\n",
    "# Load credentials\n",
    "try:\n",
    "    app_id = os.environ[fb_config[\"app_id\"]]\n",
    "    app_secret = os.environ[fb_config[\"app_secret\"]]\n",
    "    access_token = os.environ[fb_config[\"access_token\"]]\n",
    "    page_id = os.environ[fb_config[\"page_id\"]]\n",
    "    user_id = os.environ[fb_config[\"user_id\"]]\n",
    "    user_token = os.environ[fb_config[\"user_token\"]]\n",
    "\n",
    "\n",
    "except KeyError as e:\n",
    "    print(\n",
    "        f\"Error: Environment variable {e} not set. Please set it before running the tests.\"\n",
    "    )\n",
    "    exit(1)  # Exit with error code"
   ]
  },
  {
   "cell_type": "markdown",
   "metadata": {},
   "source": [
    "### get the credentials and instantiate the fb_client"
   ]
  },
  {
   "cell_type": "code",
   "execution_count": 4,
   "metadata": {},
   "outputs": [],
   "source": [
    "# Instantiate the FacebookAPIClient and PostManager\n",
    "fb_client = FbApiClient(app_id, app_secret, access_token, page_id)\n",
    "fb_post_manager = FbPostManager(fb_client)\n",
    "fb_utils = FbUtils(fb_client)\n",
    "fb_comment_manager = FbCommentManager(fb_client)\n",
    "\n",
    "# Create an instance of FbScraper\n",
    "# fb_scraper = FbScraper()"
   ]
  },
  {
   "cell_type": "code",
   "execution_count": null,
   "metadata": {},
   "outputs": [],
   "source": [
    "print(\"app_id\", app_id)\n",
    "print(\"app_secret\", app_secret)\n",
    "print(\"access_token\", access_token)\n",
    "print(\"page_id\", page_id)\n",
    "print(\"user_id\", user_id)\n",
    "print(\"user_token\", user_token)"
   ]
  },
  {
   "cell_type": "code",
   "execution_count": null,
   "metadata": {},
   "outputs": [],
   "source": [
    "print(dir(fb_client))\n",
    "print(dir(fb_post_manager))\n",
    "print(dir(fb_utils))\n",
    "print(dir(fb_comment_manager))"
   ]
  },
  {
   "cell_type": "markdown",
   "metadata": {},
   "source": [
    "## Test to get information about a Group\n",
    "### problems to get the id of a group - probably scraping better\n",
    "### problems to get the feed of a Group. Probably scraping better\n",
    "\n"
   ]
  },
  {
   "cell_type": "code",
   "execution_count": null,
   "metadata": {},
   "outputs": [],
   "source": [
    "# get group id by name\n",
    "\n",
    "group_name = \"lonelyplanettraveling\"  # Replace with the actual group name\n",
    "group_id = FbUtils.get_group_id(group_name)\n",
    "\n",
    "if group_id:\n",
    "    print(f\"Found Group ID for {group_name}: {group_id}\")\n",
    "else:\n",
    "    print(f\"Could not find Group ID for {group_name}.\")"
   ]
  },
  {
   "cell_type": "markdown",
   "metadata": {},
   "source": [
    "## Test to grab the latests posts from any of my pages (num_posts)"
   ]
  },
  {
   "cell_type": "code",
   "execution_count": null,
   "metadata": {},
   "outputs": [],
   "source": [
    "try:\n",
    "    latest_posts = fb_post_manager.get_latest_posts(page_id, num_posts=3)\n",
    "\n",
    "    if latest_posts:  # Check if the list is not empty\n",
    "        print(\"Latest posts retrieved successfully:\")\n",
    "        for post in latest_posts:\n",
    "            print(f\"  ID: {post['id']}\")\n",
    "            print(\n",
    "                f\"  Message: {post.get('message', 'No message available')}\"\n",
    "            )  # Use get() to handle missing messages\n",
    "            print(f\"  Post link: {post['permalink_url']}\")\n",
    "            print(f\"  Likes Count: {post['likes']['summary']['total_count']}\")\n",
    "            print(f\"  Comments Count: {post['comments']['summary']['total_count']}\")\n",
    "            print(\n",
    "                \"---------------------------------------------------------------------\"\n",
    "            )\n",
    "\n",
    "            # You can print other fields here as well\n",
    "            # ----------------------------------------------------------------------------\n",
    "            # NOTE NOTE NOTE MAY NEED TO Decode message text before printing JSON\n",
    "            # ----------------------------------------------------------------------------\n",
    "\n",
    "            import json\n",
    "\n",
    "            print(json.dumps(post, indent=4))  # Pretty-print each post individually\n",
    "\n",
    "    else:\n",
    "        print(\"No latest posts found or error retrieving posts.\")\n",
    "except Exception as e:  # Catching general exceptions for this example\n",
    "    print(f\"Error retrieving latest posts: {e}\")"
   ]
  },
  {
   "cell_type": "markdown",
   "metadata": {},
   "source": [
    "## Test to retrieve a post and its media by post id\n",
    "\n",
    "Any user or just my own????"
   ]
  },
  {
   "cell_type": "code",
   "execution_count": null,
   "metadata": {},
   "outputs": [],
   "source": [
    "post_id = \"379955691858248_122132752322362482\"  # Replace with the actual post ID\n",
    "specific_post = fb_post_manager.get_post_by_id(post_id)\n",
    "if specific_post:\n",
    "    import json\n",
    "\n",
    "    print(json.dumps(specific_post, indent=4))\n",
    "\n",
    "    if \"attachments\" in specific_post:\n",
    "        attachments = specific_post[\"attachments\"][\"data\"]\n",
    "        for attachment in attachments:\n",
    "            media_type = attachment.get(\"media_type\")\n",
    "            if media_type == \"photo\":\n",
    "                photo_url = attachment[\"media\"][\"image\"][\"src\"]\n",
    "                print(f\"Found photo attachment: {photo_url}\")\n",
    "            elif media_type == \"video\":\n",
    "                video_url = attachment[\"media\"][\"source\"]\n",
    "                print(f\"Found video attachment: {video_url}\")\n",
    "            # Add other media types (e.g., \"link\", \"album\") if needed\n",
    "    else:\n",
    "        print(\"No attachments found in this post.\")\n",
    "else:\n",
    "    print(\"No post found or error retrieving post.\")"
   ]
  },
  {
   "cell_type": "markdown",
   "metadata": {},
   "source": [
    "## Test to retrieve likes information by post id\n",
    "\n",
    "### Ojo puede no funcionr, pero al extraer toda la informacion del ultio post, si incluye los likes\n",
    "\n"
   ]
  },
  {
   "cell_type": "code",
   "execution_count": null,
   "metadata": {},
   "outputs": [],
   "source": [
    "post_id = \"379955691858248_122132752322362482\"  # Replace with the actual post ID\n",
    "\n",
    "likes = fb_post_manager.get_post_likes(post_id)\n",
    "\n",
    "print(f\"Post ID: {post_id}\")\n",
    "print(f\"Number of Likes: {len(likes)}\")\n",
    "for like in likes:\n",
    "    if \"unknown\" in like:\n",
    "        print(f\"Liked by: Unknown user\")\n",
    "    else:\n",
    "        print(f\"Liked by: {like.get('name', 'Unknown Name')}\")"
   ]
  },
  {
   "cell_type": "code",
   "execution_count": null,
   "metadata": {},
   "outputs": [],
   "source": []
  },
  {
   "cell_type": "markdown",
   "metadata": {},
   "source": [
    "## Test to retrieve information regarding post shares\n"
   ]
  },
  {
   "cell_type": "code",
   "execution_count": null,
   "metadata": {},
   "outputs": [],
   "source": [
    "post_id = \"379955691858248_122132752322362482\"  # Replace with the actual post ID\n",
    "shares = fb_post_manager.get_post_shares(post_id)\n",
    "print(type(shares))\n",
    "for item in shares:\n",
    "    pprint(item)  # Pretty-print each item"
   ]
  },
  {
   "cell_type": "markdown",
   "metadata": {},
   "source": [
    "## Tests to interact with comments\n",
    "\n",
    "## Test to read and print the comments of a specific post"
   ]
  },
  {
   "cell_type": "code",
   "execution_count": null,
   "metadata": {},
   "outputs": [],
   "source": [
    "post_id = input(\"Enter the post ID: \")  # You can prompt for the post ID\n",
    "\n",
    "# Retrieve comments with specified fields\n",
    "comments = fb_comment_manager.get_post_comments(\n",
    "    post_id,\n",
    "    fields=[\n",
    "        \"id\",\n",
    "        \"message\",\n",
    "        \"created_time\",\n",
    "        \"from\",\n",
    "        \"like_count\",\n",
    "        \"parent\",\n",
    "        \"user_likes\",\n",
    "        \"reactions\",\n",
    "    ],\n",
    ")\n",
    "\n",
    "if comments:\n",
    "    # Process the retrieved comments\n",
    "    for comment in comments:\n",
    "        print(f\"Comment ID: {comment['id']}\")\n",
    "\n",
    "        # Modified Author Line (handling empty dictionary)\n",
    "        author_info = comment.get(\"from\", {})\n",
    "        if (\n",
    "            isinstance(author_info, dict) and author_info\n",
    "        ):  # Check if it's a non-empty dictionary\n",
    "            author_name = author_info.get(\n",
    "                \"name\", \"Unknown Author\"\n",
    "            )  # Get name or default\n",
    "        else:\n",
    "            author_name = \"Unknown Author (ID: Unknown ID)\"\n",
    "\n",
    "        print(f\"Author: {author_name}\")\n",
    "\n",
    "        print(f\"Message: {comment['message']}\")\n",
    "        print(f\"Created Time: {comment['created_time']}\")\n",
    "        print(f\"Likes: {comment.get('like_count', 0)}\")\n",
    "\n",
    "        # Check if it's a reply\n",
    "        if \"parent\" in comment:\n",
    "            print(f\"Reply to: {comment['parent']['id']}\")\n",
    "        else:\n",
    "            print(\"Not a reply\")\n",
    "\n",
    "        # Check if liked by the user\n",
    "        if comment.get(\"user_likes\"):\n",
    "            print(\"Liked by you\")\n",
    "        else:\n",
    "            print(\"Not liked by you\")\n",
    "\n",
    "        print(\"-\" * 20)  # Separator\n",
    "else:\n",
    "    print(\"No comments found or an error occurred.\")"
   ]
  },
  {
   "cell_type": "code",
   "execution_count": null,
   "metadata": {},
   "outputs": [],
   "source": [
    "pprint(comments)"
   ]
  },
  {
   "cell_type": "markdown",
   "metadata": {},
   "source": [
    "## Test to react to comments"
   ]
  },
  {
   "cell_type": "code",
   "execution_count": null,
   "metadata": {},
   "outputs": [],
   "source": [
    "if comments:\n",
    "    for comment in comments:\n",
    "        print(f\"Comment ID: {comment['id']}\")\n",
    "        print(f\"Message: {comment['message']}\")\n",
    "\n",
    "    while True:  # Loop to keep prompting for reactions until user wants to quit\n",
    "        comment_id_to_react = input(\n",
    "            \"Enter the comment ID to react to (or type 'q' to quit): \"\n",
    "        )\n",
    "        if comment_id_to_react.lower() == \"q\":\n",
    "            break\n",
    "\n",
    "        message = input(\"Enter the answer text (or press Enter to skip reply): \")\n",
    "\n",
    "        # Improved like input handling\n",
    "        while True:\n",
    "            like_input = input(\"Do you want to like the comment? (y/n): \")\n",
    "            if like_input.lower() in [\"y\", \"n\"]:\n",
    "                like = like_input.lower() == \"y\"\n",
    "                break\n",
    "            else:\n",
    "                print(\"Invalid input. Please enter 'y' for yes or 'n' for no.\")\n",
    "\n",
    "        response = fb_comment_manager.react_to_comment(\n",
    "            comment_id_to_react, message=message if message else None, like=like\n",
    "        )\n",
    "\n",
    "        if response:\n",
    "            print(\"Reaction successful:\", response)\n",
    "        else:\n",
    "            print(\"Failed to react to the comment.\")"
   ]
  },
  {
   "cell_type": "markdown",
   "metadata": {},
   "source": [
    "## Test to publish post, videos and reels"
   ]
  },
  {
   "cell_type": "markdown",
   "metadata": {},
   "source": [
    "Test to publish a text post   ----   also illustrates how to include a link"
   ]
  },
  {
   "cell_type": "code",
   "execution_count": 5,
   "metadata": {},
   "outputs": [
    {
     "name": "stderr",
     "output_type": "stream",
     "text": [
      "DEBUG:urllib3.connectionpool:Starting new HTTPS connection (1): graph.facebook.com:443\n",
      "DEBUG:urllib3.connectionpool:https://graph.facebook.com:443 \"POST /v3.1/379955691858248/feed HTTP/1.1\" 200 43\n"
     ]
    },
    {
     "name": "stdout",
     "output_type": "stream",
     "text": [
      "Post published successfully. Post ID: 379955691858248_122133674006362482\n",
      "Text post result: {'id': '379955691858248_122133674006362482'}\n"
     ]
    }
   ],
   "source": [
    "# this checks how it includes the instagram or any other link.\n",
    "# The link is included as a link in the post, pero no se ve el reel de instagram\n",
    "\n",
    "# Publish a text post\n",
    "text_post_message = \"Happy water? \\n\" \"  https://www.instagram.com/reel/DAn7I2OuzbA/\"\n",
    "try:\n",
    "    text_post_result = fb_post_manager.publish_text_post(page_id, text_post_message)\n",
    "except Exception as e:  # Catching general exceptions for this example\n",
    "    print(f\"Error publishing text post: {e}\")\n",
    "\n",
    "print(\"Text post result:\", text_post_result)"
   ]
  },
  {
   "cell_type": "markdown",
   "metadata": {},
   "source": [
    "Test to publish a one photo post with a message"
   ]
  },
  {
   "cell_type": "code",
   "execution_count": 6,
   "metadata": {},
   "outputs": [
    {
     "name": "stderr",
     "output_type": "stream",
     "text": [
      "DEBUG:urllib3.connectionpool:https://graph.facebook.com:443 \"POST /v3.1/me/photos HTTP/1.1\" 200 74\n"
     ]
    },
    {
     "name": "stdout",
     "output_type": "stream",
     "text": [
      "Post with photo published successfully. Post ID: 379955691858248_122133674240362482\n",
      "Photo post result: {'id': '122133674216362482', 'post_id': '379955691858248_122133674240362482'}\n"
     ]
    }
   ],
   "source": [
    "photo_post_message = \"El Rocio so full with horses\"\n",
    "photo_path = r\"C:\\Users\\manue\\Documents\\Disfrutando Huelva (DH)\\Agrupados para editar\\Rocio - Todos\\Caballos carros y carretas en el rocio\\20240518_131042~2.jpg\"\n",
    "try:\n",
    "    photo_post_result = fb_post_manager.publish_photo_post(\n",
    "        page_id, photo_post_message, photo_path\n",
    "    )\n",
    "except Exception as e:  # Catching general exceptions for this example\n",
    "    print(f\"Error publishing photo post: {e}\")\n",
    "\n",
    "# Print results\n",
    "\n",
    "print(\"Photo post result:\", photo_post_result)"
   ]
  },
  {
   "cell_type": "markdown",
   "metadata": {},
   "source": [
    "test to publish multi-photo post\n"
   ]
  },
  {
   "cell_type": "code",
   "execution_count": 7,
   "metadata": {},
   "outputs": [],
   "source": [
    "# Set the path to your \"tests\" folder\n",
    "tests_folder = r\"C:\\Users\\manue\\Downloads\\tests\"  # Update this path"
   ]
  },
  {
   "cell_type": "code",
   "execution_count": 8,
   "metadata": {},
   "outputs": [],
   "source": [
    "# Function to get full path of files in the tests folder\n",
    "def get_file_path(filename):\n",
    "    return os.path.join(tests_folder, filename)"
   ]
  },
  {
   "cell_type": "code",
   "execution_count": 9,
   "metadata": {},
   "outputs": [
    {
     "name": "stdout",
     "output_type": "stream",
     "text": [
      "['C:\\\\Users\\\\manue\\\\Downloads\\\\tests\\\\photo1.jpg', 'C:\\\\Users\\\\manue\\\\Downloads\\\\tests\\\\photo2.jpg', 'C:\\\\Users\\\\manue\\\\Downloads\\\\tests\\\\photo3.jpg']\n",
      "File C:\\Users\\manue\\Downloads\\tests\\photo1.jpg exists.\n",
      "File C:\\Users\\manue\\Downloads\\tests\\photo2.jpg exists.\n",
      "File C:\\Users\\manue\\Downloads\\tests\\photo3.jpg exists.\n"
     ]
    },
    {
     "name": "stderr",
     "output_type": "stream",
     "text": [
      "DEBUG:urllib3.connectionpool:https://graph.facebook.com:443 \"POST /v3.1/me/photos HTTP/1.1\" 200 74\n",
      "DEBUG:urllib3.connectionpool:https://graph.facebook.com:443 \"POST /v3.1/me/photos HTTP/1.1\" 200 74\n",
      "DEBUG:urllib3.connectionpool:https://graph.facebook.com:443 \"POST /v3.1/me/photos HTTP/1.1\" 200 74\n",
      "DEBUG:urllib3.connectionpool:https://graph.facebook.com:443 \"POST /v3.1/379955691858248/feed HTTP/1.1\" 400 143\n"
     ]
    },
    {
     "name": "stdout",
     "output_type": "stream",
     "text": [
      "Collected photo IDs: ['379955691858248_122133674432362482', '379955691858248_122133674504362482', '379955691858248_122133674594362482']\n",
      "Error publishing multi-photo post: (#100) param attached_media must be an array.\n",
      "Multi-photo post result: None\n"
     ]
    }
   ],
   "source": [
    "# 1. Publish multi-photo post (carousel)\n",
    "photo_files = [\n",
    "    \"photo1.jpg\",\n",
    "    \"photo2.jpg\",\n",
    "    \"photo3.jpg\",\n",
    "]  # Replace with your actual photo filenames\n",
    "photo_paths = [get_file_path(file) for file in photo_files]\n",
    "caption = \"Check out these amazing photos!\"\n",
    "print(photo_paths)\n",
    "for photo_path in photo_paths:\n",
    "    if not os.path.exists(photo_path):\n",
    "        print(f\"File {photo_path} does not exist.\")\n",
    "    else:\n",
    "        print(f\"File {photo_path} exists.\")\n",
    "\n",
    "result = fb_post_manager.publish_multi_photo_post(page_id, caption, photo_paths)\n",
    "print(\"Multi-photo post result:\", result)"
   ]
  },
  {
   "cell_type": "code",
   "execution_count": null,
   "metadata": {},
   "outputs": [],
   "source": [
    "try:\n",
    "    with open(photo_paths[2], \"rb\") as f:\n",
    "        print(\"Successfully opened:\", f)\n",
    "except IOError as e:\n",
    "    print(\"Failed to open:\", e)"
   ]
  },
  {
   "cell_type": "markdown",
   "metadata": {},
   "source": [
    "test to publish video post\n"
   ]
  },
  {
   "cell_type": "code",
   "execution_count": 13,
   "metadata": {},
   "outputs": [
    {
     "name": "stderr",
     "output_type": "stream",
     "text": [
      "DEBUG:urllib3.connectionpool:Resetting dropped connection: graph.facebook.com\n",
      "DEBUG:urllib3.connectionpool:https://graph.facebook.com:443 \"POST /v3.1/379955691858248/videos HTTP/1.1\" 400 310\n"
     ]
    },
    {
     "name": "stdout",
     "output_type": "stream",
     "text": [
      "Error publishing video post: There was a problem uploading your video file. Please try again.\n",
      "Video post result: None\n"
     ]
    }
   ],
   "source": [
    "# 2. Publish video post\n",
    "video_file = \"video.mp4\"  # Replace with your actual video filename\n",
    "video_message = \"a video about El Rocio\"\n",
    "video_path = get_file_path(video_file)\n",
    "video_title = \"My Awesome Video\"\n",
    "\n",
    "result = fb_post_manager.publish_video_post(\n",
    "    page_id, video_message, video_path, video_title\n",
    ")\n",
    "print(\"Video post result:\", result)"
   ]
  },
  {
   "cell_type": "markdown",
   "metadata": {},
   "source": [
    "test to publish reel"
   ]
  },
  {
   "cell_type": "code",
   "execution_count": null,
   "metadata": {},
   "outputs": [],
   "source": [
    "# 3. Publish reel\n",
    "# Args:\n",
    "#             page_id (str): The ID of the page to post the reel to.\n",
    "#             message (str): The text content of the reel post.\n",
    "#             video_path (str): The file path to the video to be uploaded as a reel.\n",
    "#             title (Optional[str]): An optional title for the reel.\n",
    "\n",
    "reel_file = \"reel.mp4\"  # Replace with your actual reel filename\n",
    "reel_message = \"just a El Rocio's reel\"\n",
    "reel_path = get_file_path(reel_file)\n",
    "reel_title = \"El Rocio in action!\"\n",
    "\n",
    "\n",
    "result = fb_post_manager.publish_reel(page_id, reel_message, reel_path, reel_title)\n",
    "print(\"Reel post result:\", result)"
   ]
  },
  {
   "cell_type": "markdown",
   "metadata": {},
   "source": [
    "## Test to share someone else post, video or reel on my feed - works well\n"
   ]
  },
  {
   "cell_type": "markdown",
   "metadata": {},
   "source": [
    "test to share a third party post by its id on my feed. Pending on getting the post id - works"
   ]
  },
  {
   "cell_type": "code",
   "execution_count": null,
   "metadata": {},
   "outputs": [],
   "source": [
    "post_id_to_share = \"\"\n",
    "post_reel_message = \" I like it!\"\n",
    "\n",
    "result = fb_post_manager.share_public_post(page_id, post_id_to_share, post_reel_message)"
   ]
  },
  {
   "cell_type": "markdown",
   "metadata": {},
   "source": [
    "Test to share a third party reel by its id on my feed - it works OK"
   ]
  },
  {
   "cell_type": "code",
   "execution_count": null,
   "metadata": {},
   "outputs": [],
   "source": [
    "reel_id_to_share = \"503813719241668\"\n",
    "share_reel_message = \"impressive\"\n",
    "\n",
    "result = fb_post_manager.share_public_reel(\n",
    "    page_id, reel_id_to_share, share_reel_message\n",
    ")  # message is optional"
   ]
  },
  {
   "cell_type": "markdown",
   "metadata": {},
   "source": [
    "test to share a third party video by its id. It works OK"
   ]
  },
  {
   "cell_type": "code",
   "execution_count": null,
   "metadata": {},
   "outputs": [],
   "source": [
    "video_id_to_share = \"521378570537970\"\n",
    "share_video_message = \" wooowwww!!!! \"\n",
    "result = fb_post_manager.share_public_video(\n",
    "    page_id, video_id_to_share, share_video_message\n",
    ")"
   ]
  },
  {
   "cell_type": "markdown",
   "metadata": {},
   "source": [
    "# Utils Tests\n"
   ]
  },
  {
   "cell_type": "markdown",
   "metadata": {},
   "source": [
    "## Get the id of a user, page or group by its name\n",
    "\n",
    "### based on facebook-scraper does not work. too old\n",
    "\n",
    "### based on selenium: it works for User but not for page or group\n"
   ]
  },
  {
   "cell_type": "code",
   "execution_count": null,
   "metadata": {},
   "outputs": [],
   "source": [
    "# Get user ID, page ID, and group ID using fb_scraper methods\n",
    "\n",
    "user_name = \"intheskytravel04\"  # Replace with the actual username\n",
    "page_name = \"ItalyMartha\"  # Replace with the actual page name\n",
    "group_name = \"Traveling Around the World Group\"  # Replace with the actual group name\n",
    "\n",
    "# Retrieve IDs\n",
    "user_id = fb_scraper.get_user_id(user_name)\n",
    "\n",
    "time.sleep(2)  # 2-second delay between requests\n",
    "page_id = fb_scraper.get_page_id(page_name)\n",
    "\n",
    "\n",
    "time.sleep(2)  # 2-second delay between requests\n",
    "group_id = fb_scraper.get_group_id(group_name)\n",
    "\n",
    "# Print the results\n",
    "print(f\"User ID for '{user_name}': {user_id}\")\n",
    "print(f\"Page ID for '{page_name}': {page_id}\")\n",
    "print(f\"Group ID for '{group_name}': {group_id}\")"
   ]
  },
  {
   "cell_type": "markdown",
   "metadata": {},
   "source": [
    "User ID for 'intheskytravel04': None\n",
    "Page ID for 'travel.bg': None\n",
    "Group ID for 'Traveling Around the World Group': None"
   ]
  },
  {
   "cell_type": "markdown",
   "metadata": {},
   "source": [
    "## Test for Hiker API This is only for\n",
    "Instagram accounts\n",
    "\n",
    "get the FB page from IG accounts that I suggest\n"
   ]
  },
  {
   "cell_type": "code",
   "execution_count": null,
   "metadata": {},
   "outputs": [],
   "source": [
    "%pip install --upgrade hikerapi\n",
    "\n",
    "\n"
   ]
  },
  {
   "cell_type": "code",
   "execution_count": null,
   "metadata": {},
   "outputs": [],
   "source": [
    "from hikerapi import Client\n",
    "\n",
    "hiker_api_key = os.environ[\"HikerAPI_key\"]\n",
    "cl = Client(token=hiker_api_key)"
   ]
  },
  {
   "cell_type": "code",
   "execution_count": null,
   "metadata": {},
   "outputs": [],
   "source": [
    "print(type(cl))"
   ]
  },
  {
   "cell_type": "code",
   "execution_count": null,
   "metadata": {},
   "outputs": [],
   "source": [
    "print(hiker_api_key)"
   ]
  },
  {
   "cell_type": "markdown",
   "metadata": {},
   "source": [
    "### Hiker API - Get user info"
   ]
  },
  {
   "cell_type": "code",
   "execution_count": null,
   "metadata": {},
   "outputs": [],
   "source": [
    "user_info = cl.user_by_username_v2(\"huelvafoodie\")\n",
    "\n",
    "pprint(user_info)"
   ]
  },
  {
   "cell_type": "markdown",
   "metadata": {},
   "source": [
    "## Extract the most important Huelva IG influencers profiles by name\n",
    "##         including their FB id\n",
    "### store them in a JSON file"
   ]
  },
  {
   "cell_type": "markdown",
   "metadata": {},
   "source": [
    "\"\"\"Extracts and analyzes Instagram user information from a JSON file.\n",
    "\n",
    "This class provides methods to process Instagram user data that has been\n",
    "fetched using the HikerAPI and saved in a JSON file. It can extract\n",
    "relevant information, create a Pandas DataFrame, and save it as a CSV file.\n",
    "\n",
    "Methods:\n",
    "    extract_info_data_from_json(input_file): Extracts user data from a JSON file\n",
    "        and returns a DataFrame.\n",
    "    save_to_csv(df, output_file): Saves a DataFrame containing user data to a CSV file.\n",
    "\"\"\"\n"
   ]
  },
  {
   "cell_type": "code",
   "execution_count": null,
   "metadata": {},
   "outputs": [],
   "source": [
    "import os\n",
    "import json\n",
    "from hikerapi import Client\n",
    "\n",
    "\n",
    "def fetch_and_save_profiles(usernames, output_file=\"instagram_profiles.json\"):\n",
    "    \"\"\"Fetches user profiles from HikerAPI and saves the data to a JSON file.\n",
    "\n",
    "    Args:\n",
    "        usernames: A list of Instagram usernames to fetch.\n",
    "        output_file: The path to the JSON file where data will be saved.\n",
    "    \"\"\"\n",
    "\n",
    "    # Load your HikerAPI key securely from an environment variable\n",
    "    hiker_api_key = os.environ.get(\"HikerAPI_key\")\n",
    "    if not hiker_api_key:\n",
    "        raise ValueError(\"HikerAPI_key environment variable not found.\")\n",
    "\n",
    "    # Create the HikerAPI client\n",
    "    cl = Client(token=hiker_api_key)\n",
    "\n",
    "    all_profile_data = []\n",
    "\n",
    "    for username in usernames:\n",
    "        try:\n",
    "            user_info = cl.user_by_username_v2(username)\n",
    "\n",
    "            # If the request is successful, add it to the list\n",
    "            if user_info[\"status\"] == \"ok\":\n",
    "                all_profile_data.append(user_info)\n",
    "            else:\n",
    "                print(f\"Error fetching data for {username}: {user_info.get('error')}\")\n",
    "        except Exception as e:\n",
    "            print(f\"Error fetching data for {username}: {e}\")\n",
    "\n",
    "    # Save the data to a JSON file\n",
    "    with open(output_file, \"w\", encoding=\"utf-8\") as f:\n",
    "        json.dump(all_profile_data, f, ensure_ascii=False, indent=4)"
   ]
  },
  {
   "cell_type": "code",
   "execution_count": null,
   "metadata": {},
   "outputs": [],
   "source": [
    "# call the function to fetch the information\n",
    "usernames_to_fetch = [\n",
    "    \"capturolavida_emn\",\n",
    "    \"huelvafoodie\",\n",
    "    \"laesenciadehuelva\",\n",
    "    \"huelvagram\",\n",
    "    \"agendahuelva\",\n",
    "    \"huelva_secreta\",\n",
    "    \"huelva.explore\",\n",
    "    \"huelva24com\",\n",
    "    \"huelvainformacion\",\n",
    "    \"huelvahoy\",\n",
    "    \"huelvaoriginal\",\n",
    "]\n",
    "\n",
    "# Call the function to fetch and save profiles\n",
    "fetch_and_save_profiles(\n",
    "    usernames_to_fetch\n",
    ")  # add arg for output_file - default \"instagram_profiles.json\""
   ]
  },
  {
   "cell_type": "markdown",
   "metadata": {},
   "source": [
    "## Extract relevant information from the JSON and store it in a pandas data frame\n",
    "## and, latter, store in a .csv file\n",
    "## to access it with Excel or Google Sheets"
   ]
  },
  {
   "cell_type": "code",
   "execution_count": null,
   "metadata": {},
   "outputs": [],
   "source": [
    "import os\n",
    "import json\n",
    "import pandas as pd\n",
    "\n",
    "\n",
    "def extract_profile_data_from_json(\n",
    "    input_file=\"instagram_profiles.json\", output_file=\"instagram_profiles.csv\"\n",
    "):\n",
    "    \"\"\"Loads Instagram profile data from a JSON file, extracts relevant fields,\n",
    "    creates a Pandas DataFrame, and exports it to a CSV file.\n",
    "\n",
    "    Args:\n",
    "        input_file: The path to the JSON file containing the profile data.\n",
    "        output_file: The path to save the CSV file.\n",
    "    \"\"\"\n",
    "\n",
    "    with open(input_file, \"r\", encoding=\"utf-8\") as f:\n",
    "        all_profile_data = json.load(f)\n",
    "\n",
    "    extracted_data = []\n",
    "\n",
    "    for profile in all_profile_data:\n",
    "        if profile[\"status\"] == \"ok\":\n",
    "            user = profile[\"user\"]\n",
    "            extracted_data.append(\n",
    "                {\n",
    "                    \"username\": user[\"username\"],\n",
    "                    \"full_name\": user[\"full_name\"],\n",
    "                    \"instagram_id\": user.get(\n",
    "                        \"pk\", user.get(\"pk_id\")\n",
    "                    ),  # Extract the ID (either \"pk\" or \"pk_id\")\n",
    "                    \"category\": user[\"category\"],\n",
    "                    \"biography\": user[\"biography\"],\n",
    "                    \"followers\": user[\"follower_count\"],\n",
    "                    \"following\": user[\"following_count\"],\n",
    "                    \"is_private\": user[\"is_private\"],\n",
    "                    \"is_business\": user[\"is_business\"],\n",
    "                    \"is_verified\": user[\"is_verified\"],\n",
    "                    \"media_count\": user[\"media_count\"],\n",
    "                    \"fb_page_id\": str(user[\"page_id\"]),\n",
    "                    \"fb_page_name\": user[\"page_name\"],\n",
    "                    \"profile_pic_url\": user[\"profile_pic_url\"],\n",
    "                    \"external_url\": user.get(\n",
    "                        \"external_url\"\n",
    "                    ),  # Use get() to handle missing keys\n",
    "                    \"bio_links\": [\n",
    "                        link[\"url\"] for link in user.get(\"bio_links\", [])\n",
    "                    ],  # Extract URLs from bio links\n",
    "                }\n",
    "            )\n",
    "\n",
    "    # Create a DataFrame from the extracted data\n",
    "    df = pd.DataFrame(extracted_data)\n",
    "\n",
    "    # Export the DataFrame to a CSV file (for Google Sheets)\n",
    "    df.to_csv(output_file, index=False)\n",
    "\n",
    "\n",
    "# Example Usage:\n",
    "extract_profile_data_from_json()  # Using default file names\n",
    "# input_file=\"instagram_profiles.json\",\n",
    "# output_file=\"instagram_profiles.csv\""
   ]
  }
 ],
 "metadata": {
  "kernelspec": {
   "display_name": "sn-env",
   "language": "python",
   "name": "python3"
  },
  "language_info": {
   "codemirror_mode": {
    "name": "ipython",
    "version": 3
   },
   "file_extension": ".py",
   "mimetype": "text/x-python",
   "name": "python",
   "nbconvert_exporter": "python",
   "pygments_lexer": "ipython3",
   "version": "3.12.4"
  }
 },
 "nbformat": 4,
 "nbformat_minor": 2
}
