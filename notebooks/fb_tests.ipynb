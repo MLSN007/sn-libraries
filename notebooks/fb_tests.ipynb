{
 "cells": [
  {
   "cell_type": "markdown",
   "metadata": {},
   "source": [
    "##                 to run in all cases\n",
    "\n",
    "### imports"
   ]
  },
  {
   "cell_type": "code",
   "execution_count": 1,
   "metadata": {},
   "outputs": [
    {
     "name": "stderr",
     "output_type": "stream",
     "text": [
      "c:\\Users\\manue\\Documents\\GitHub007\\sn-libraries\\sn-env\\Lib\\site-packages\\tqdm\\auto.py:21: TqdmWarning: IProgress not found. Please update jupyter and ipywidgets. See https://ipywidgets.readthedocs.io/en/stable/user_install.html\n",
      "  from .autonotebook import tqdm as notebook_tqdm\n"
     ]
    }
   ],
   "source": [
    "import json, os\n",
    "from typing import Dict, Optional, Any, List\n",
    "from pprint import pprint\n",
    "\n",
    "from fb_api_client import FbApiClient\n",
    "from fb_post_manager import FbPostManager\n",
    "from fb_utils import FbUtils\n",
    "from fb_comment_manager import FbCommentManager\n",
    "from fb_scraper import FbScraper\n",
    "\n",
    "import logging\n",
    "\n",
    "logging.basicConfig(level=logging.DEBUG)  # Set the logging level to DEBUG"
   ]
  },
  {
   "cell_type": "markdown",
   "metadata": {},
   "source": [
    "### Environmental Variables based on App and User/Page\n",
    "\n",
    "Use fb_create_json_config.py to create the JSON config file\n",
    "the structure of the file is User_Appname_PageName_config.json\n",
    "\n",
    "As I am running it from the Notebook, we need to use the relative directory ..\\\n"
   ]
  },
  {
   "cell_type": "code",
   "execution_count": 2,
   "metadata": {},
   "outputs": [],
   "source": [
    "config_file = r\"..\\config_files\\FB_JK_JK Travel_JK Travel_config.json\""
   ]
  },
  {
   "cell_type": "code",
   "execution_count": 3,
   "metadata": {},
   "outputs": [],
   "source": [
    "# load the JSON configuration\n",
    "def load_fb_config(config_file):\n",
    "    with open(config_file, \"r\") as f:\n",
    "        return json.load(f)\n",
    "\n",
    "\n",
    "fb_config = load_fb_config(config_file)\n",
    "\n",
    "# Load credentials\n",
    "try:\n",
    "    app_id = os.environ[fb_config[\"app_id\"]]\n",
    "    app_secret = os.environ[fb_config[\"app_secret\"]]\n",
    "    access_token = os.environ[fb_config[\"access_token\"]]\n",
    "    page_id = os.environ[fb_config[\"page_id\"]]\n",
    "    user_id = os.environ[fb_config[\"user_id\"]]\n",
    "    user_token = os.environ[fb_config[\"user_token\"]]\n",
    "\n",
    "\n",
    "except KeyError as e:\n",
    "    print(\n",
    "        f\"Error: Environment variable {e} not set. Please set it before running the tests.\"\n",
    "    )\n",
    "    exit(1)  # Exit with error code"
   ]
  },
  {
   "cell_type": "markdown",
   "metadata": {},
   "source": [
    "### get the credentials and instantiate the fb_client"
   ]
  },
  {
   "cell_type": "code",
   "execution_count": 4,
   "metadata": {},
   "outputs": [],
   "source": [
    "# Instantiate the FacebookAPIClient and PostManager\n",
    "fb_client = FbApiClient(app_id, app_secret, access_token, page_id)\n",
    "fb_post_manager = FbPostManager(fb_client)\n",
    "fb_utils = FbUtils(fb_client)\n",
    "fb_comment_manager = FbCommentManager(fb_client)"
   ]
  },
  {
   "cell_type": "code",
   "execution_count": null,
   "metadata": {},
   "outputs": [],
   "source": [
    "print(\"app_id\", app_id)\n",
    "print(\"app_secret\", app_secret)\n",
    "print(\"access_token\", access_token)\n",
    "print(\"page_id\", page_id)\n",
    "print(\"user_id\", user_id)\n",
    "print(\"user_token\", user_token)"
   ]
  },
  {
   "cell_type": "code",
   "execution_count": null,
   "metadata": {},
   "outputs": [],
   "source": [
    "print(dir(fb_client))\n",
    "print(dir(fb_post_manager))\n",
    "print(dir(fb_utils))\n",
    "print(dir(fb_comment_manager))\n",
    "\n"
   ]
  },
  {
   "cell_type": "markdown",
   "metadata": {},
   "source": [
    "## Test to get information about a Group\n",
    "### problems to get the id of a group - probably scraping better\n",
    "### problems to get the feed of a Group. Probably scraping better\n",
    "\n"
   ]
  },
  {
   "cell_type": "code",
   "execution_count": null,
   "metadata": {},
   "outputs": [],
   "source": [
    "# get group id by name\n",
    "\n",
    "group_name = \"lonelyplanettraveling\"  # Replace with the actual group name\n",
    "group_id = FbUtils.get_group_id(group_name)\n",
    "\n",
    "if group_id:\n",
    "    print(f\"Found Group ID for {group_name}: {group_id}\")\n",
    "else:\n",
    "    print(f\"Could not find Group ID for {group_name}.\")"
   ]
  },
  {
   "cell_type": "markdown",
   "metadata": {},
   "source": [
    "## Test to grab the latests posts from any of my pages (num_posts)"
   ]
  },
  {
   "cell_type": "code",
   "execution_count": null,
   "metadata": {},
   "outputs": [],
   "source": [
    "try:\n",
    "    latest_posts = fb_post_manager.get_latest_posts(page_id, num_posts=3)\n",
    "\n",
    "    if latest_posts:  # Check if the list is not empty\n",
    "        print(\"Latest posts retrieved successfully:\")\n",
    "        for post in latest_posts:\n",
    "            print(f\"  ID: {post['id']}\")\n",
    "            print(\n",
    "                f\"  Message: {post.get('message', 'No message available')}\"\n",
    "            )  # Use get() to handle missing messages\n",
    "            print(f\"  Post link: {post['permalink_url']}\")\n",
    "            print(f\"  Likes Count: {post['likes']['summary']['total_count']}\")\n",
    "            print(f\"  Comments Count: {post['comments']['summary']['total_count']}\")\n",
    "            print(\n",
    "                \"---------------------------------------------------------------------\"\n",
    "            )\n",
    "\n",
    "            # You can print other fields here as well\n",
    "            # ----------------------------------------------------------------------------\n",
    "            # NOTE NOTE NOTE MAY NEED TO Decode message text before printing JSON\n",
    "            # ----------------------------------------------------------------------------\n",
    "\n",
    "            import json\n",
    "\n",
    "            print(json.dumps(post, indent=4))  # Pretty-print each post individually\n",
    "\n",
    "    else:\n",
    "        print(\"No latest posts found or error retrieving posts.\")\n",
    "except Exception as e:  # Catching general exceptions for this example\n",
    "    print(f\"Error retrieving latest posts: {e}\")"
   ]
  },
  {
   "cell_type": "markdown",
   "metadata": {},
   "source": [
    "## Test to retrieve a post and its media by post id\n",
    "\n",
    "Any user or just my own????"
   ]
  },
  {
   "cell_type": "code",
   "execution_count": null,
   "metadata": {},
   "outputs": [],
   "source": [
    "post_id = \"379955691858248_122132752322362482\"  # Replace with the actual post ID\n",
    "specific_post = fb_post_manager.get_post_by_id(post_id)\n",
    "if specific_post:\n",
    "    import json\n",
    "\n",
    "    print(json.dumps(specific_post, indent=4))\n",
    "\n",
    "    if \"attachments\" in specific_post:\n",
    "        attachments = specific_post[\"attachments\"][\"data\"]\n",
    "        for attachment in attachments:\n",
    "            media_type = attachment.get(\"media_type\")\n",
    "            if media_type == \"photo\":\n",
    "                photo_url = attachment[\"media\"][\"image\"][\"src\"]\n",
    "                print(f\"Found photo attachment: {photo_url}\")\n",
    "            elif media_type == \"video\":\n",
    "                video_url = attachment[\"media\"][\"source\"]\n",
    "                print(f\"Found video attachment: {video_url}\")\n",
    "            # Add other media types (e.g., \"link\", \"album\") if needed\n",
    "    else:\n",
    "        print(\"No attachments found in this post.\")\n",
    "else:\n",
    "    print(\"No post found or error retrieving post.\")"
   ]
  },
  {
   "cell_type": "markdown",
   "metadata": {},
   "source": [
    "## Test to retrieve likes information by post id\n",
    "\n",
    "### Ojo puede no funcionr, pero al extraer toda la informacion del ultio post, si incluye los likes\n",
    "\n"
   ]
  },
  {
   "cell_type": "code",
   "execution_count": null,
   "metadata": {},
   "outputs": [],
   "source": [
    "post_id = \"379955691858248_122132752322362482\"  # Replace with the actual post ID\n",
    "\n",
    "likes = fb_post_manager.get_post_likes(post_id)\n",
    "\n",
    "print(f\"Post ID: {post_id}\")\n",
    "print(f\"Number of Likes: {len(likes)}\")\n",
    "for like in likes:\n",
    "    if \"unknown\" in like:\n",
    "        print(f\"Liked by: Unknown user\")\n",
    "    else:\n",
    "        print(f\"Liked by: {like.get('name', 'Unknown Name')}\")"
   ]
  },
  {
   "cell_type": "code",
   "execution_count": null,
   "metadata": {},
   "outputs": [],
   "source": []
  },
  {
   "cell_type": "markdown",
   "metadata": {},
   "source": [
    "## Test to retrieve information regarding post shares\n"
   ]
  },
  {
   "cell_type": "code",
   "execution_count": null,
   "metadata": {},
   "outputs": [],
   "source": [
    "post_id = \"379955691858248_122132752322362482\"  # Replace with the actual post ID\n",
    "shares = fb_post_manager.get_post_shares(post_id)\n",
    "print(type(shares))\n",
    "for item in shares:\n",
    "    pprint(item)  # Pretty-print each item"
   ]
  },
  {
   "cell_type": "markdown",
   "metadata": {},
   "source": [
    "# Tests to interact with comments\n",
    "\n",
    "## Test to read and print the comments of a specific post"
   ]
  },
  {
   "cell_type": "code",
   "execution_count": null,
   "metadata": {},
   "outputs": [],
   "source": [
    "post_id = input(\"Enter the post ID: \")  # You can prompt for the post ID\n",
    "\n",
    "# Retrieve comments with specified fields\n",
    "comments = fb_comment_manager.get_post_comments(\n",
    "    post_id,\n",
    "    fields=[\n",
    "        \"id\",\n",
    "        \"message\",\n",
    "        \"created_time\",\n",
    "        \"from\",\n",
    "        \"like_count\",\n",
    "        \"parent\",\n",
    "        \"user_likes\",\n",
    "        \"reactions\",\n",
    "    ],\n",
    ")\n",
    "\n",
    "if comments:\n",
    "    # Process the retrieved comments\n",
    "    for comment in comments:\n",
    "        print(f\"Comment ID: {comment['id']}\")\n",
    "\n",
    "        # Modified Author Line (handling empty dictionary)\n",
    "        author_info = comment.get(\"from\", {})\n",
    "        if (\n",
    "            isinstance(author_info, dict) and author_info\n",
    "        ):  # Check if it's a non-empty dictionary\n",
    "            author_name = author_info.get(\n",
    "                \"name\", \"Unknown Author\"\n",
    "            )  # Get name or default\n",
    "        else:\n",
    "            author_name = \"Unknown Author (ID: Unknown ID)\"\n",
    "\n",
    "        print(f\"Author: {author_name}\")\n",
    "\n",
    "        print(f\"Message: {comment['message']}\")\n",
    "        print(f\"Created Time: {comment['created_time']}\")\n",
    "        print(f\"Likes: {comment.get('like_count', 0)}\")\n",
    "\n",
    "        # Check if it's a reply\n",
    "        if \"parent\" in comment:\n",
    "            print(f\"Reply to: {comment['parent']['id']}\")\n",
    "        else:\n",
    "            print(\"Not a reply\")\n",
    "\n",
    "        # Check if liked by the user\n",
    "        if comment.get(\"user_likes\"):\n",
    "            print(\"Liked by you\")\n",
    "        else:\n",
    "            print(\"Not liked by you\")\n",
    "\n",
    "        print(\"-\" * 20)  # Separator\n",
    "else:\n",
    "    print(\"No comments found or an error occurred.\")"
   ]
  },
  {
   "cell_type": "code",
   "execution_count": null,
   "metadata": {},
   "outputs": [],
   "source": [
    "pprint(comments)"
   ]
  },
  {
   "cell_type": "markdown",
   "metadata": {},
   "source": [
    "## Test to react to comments"
   ]
  },
  {
   "cell_type": "code",
   "execution_count": null,
   "metadata": {},
   "outputs": [],
   "source": [
    "if comments:\n",
    "    for comment in comments:\n",
    "        print(f\"Comment ID: {comment['id']}\")\n",
    "        print(f\"Message: {comment['message']}\")\n",
    "\n",
    "    while True:  # Loop to keep prompting for reactions until user wants to quit\n",
    "        comment_id_to_react = input(\n",
    "            \"Enter the comment ID to react to (or type 'q' to quit): \"\n",
    "        )\n",
    "        if comment_id_to_react.lower() == \"q\":\n",
    "            break\n",
    "\n",
    "        message = input(\"Enter the answer text (or press Enter to skip reply): \")\n",
    "\n",
    "        # Improved like input handling\n",
    "        while True:\n",
    "            like_input = input(\"Do you want to like the comment? (y/n): \")\n",
    "            if like_input.lower() in [\"y\", \"n\"]:\n",
    "                like = like_input.lower() == \"y\"\n",
    "                break\n",
    "            else:\n",
    "                print(\"Invalid input. Please enter 'y' for yes or 'n' for no.\")\n",
    "\n",
    "        response = fb_comment_manager.react_to_comment(\n",
    "            comment_id_to_react, message=message if message else None, like=like\n",
    "        )\n",
    "\n",
    "        if response:\n",
    "            print(\"Reaction successful:\", response)\n",
    "        else:\n",
    "            print(\"Failed to react to the comment.\")"
   ]
  },
  {
   "cell_type": "markdown",
   "metadata": {},
   "source": [
    "## Test to publish a message post"
   ]
  },
  {
   "cell_type": "code",
   "execution_count": null,
   "metadata": {},
   "outputs": [],
   "source": [
    "# this checks how it includes the instagram or any other link.\n",
    "# The link is included as a link in the post, pero no se ve el reel de instagram\n",
    "\n",
    "# Publish a text post\n",
    "text_post_message = \"Happy water? \\n\" \"  https://www.instagram.com/reel/DAn7I2OuzbA/\"\n",
    "try:\n",
    "    text_post_result = fb_post_manager.publish_text_post(page_id, text_post_message)\n",
    "except Exception as e:  # Catching general exceptions for this example\n",
    "    print(f\"Error publishing text post: {e}\")\n",
    "\n",
    "print(\"Text post result:\", text_post_result)"
   ]
  },
  {
   "cell_type": "markdown",
   "metadata": {},
   "source": [
    "Test to publish a one photo post with a message"
   ]
  },
  {
   "cell_type": "code",
   "execution_count": null,
   "metadata": {},
   "outputs": [],
   "source": [
    "photo_post_message = \"El Rocio so full with horses\"\n",
    "photo_path = r\"C:\\Users\\manue\\Documents\\Disfrutando Huelva (DH)\\Agrupados para editar\\Rocio - Todos\\Caballos carros y carretas en el rocio\\20240518_131042~2.jpg\"\n",
    "try:\n",
    "    photo_post_result = fb_post_manager.publish_photo_post(\n",
    "        page_id, photo_post_message, photo_path\n",
    "    )\n",
    "except Exception as e:  # Catching general exceptions for this example\n",
    "    print(f\"Error publishing photo post: {e}\")\n",
    "\n",
    "# Print results\n",
    "\n",
    "print(\"Photo post result:\", photo_post_result)"
   ]
  },
  {
   "cell_type": "markdown",
   "metadata": {},
   "source": [
    "test to share a third party post by its id on my feed. Pending on getting the post id"
   ]
  },
  {
   "cell_type": "code",
   "execution_count": null,
   "metadata": {},
   "outputs": [],
   "source": [
    "post_id_to_share = \"\"\n",
    "post_reel_message = \" I like it!\"\n",
    "\n",
    "result = fb_post_manager.share_public_post(page_id, post_id_to_share, post_reel_message)"
   ]
  },
  {
   "cell_type": "markdown",
   "metadata": {},
   "source": [
    "Test to share a third party reel by its id on my feed"
   ]
  },
  {
   "cell_type": "code",
   "execution_count": null,
   "metadata": {},
   "outputs": [],
   "source": [
    "reel_id_to_share = \"503813719241668\"\n",
    "share_reel_message = \"impressive\"\n",
    "\n",
    "result = fb_post_manager.share_public_reel(\n",
    "    page_id, reel_id_to_share, share_reel_message\n",
    ")  # message is optional"
   ]
  },
  {
   "cell_type": "markdown",
   "metadata": {},
   "source": [
    "test to share a third party video by its id"
   ]
  },
  {
   "cell_type": "code",
   "execution_count": null,
   "metadata": {},
   "outputs": [],
   "source": [
    "video_id_to_share = \"521378570537970\"\n",
    "share_video_message = \" wooowwww!!!! \"\n",
    "result = fb_post_manager.share_public_video(\n",
    "    page_id, video_id_to_share, share_video_message\n",
    ")"
   ]
  },
  {
   "cell_type": "markdown",
   "metadata": {},
   "source": [
    "# Utils Tests\n"
   ]
  },
  {
   "cell_type": "markdown",
   "metadata": {},
   "source": [
    "##  def get_page_id (scraping)"
   ]
  },
  {
   "cell_type": "code",
   "execution_count": null,
   "metadata": {},
   "outputs": [],
   "source": []
  },
  {
   "cell_type": "markdown",
   "metadata": {},
   "source": [
    "## Get the id of a page by its name"
   ]
  },
  {
   "cell_type": "code",
   "execution_count": null,
   "metadata": {},
   "outputs": [],
   "source": [
    "page_name = \"DisfrutandoHuelva\"  # Replace with the actual Page name\n",
    "user_id = FbUtils.get_page_id(page_name)\n",
    "\n",
    "if user_id:\n",
    "    print(f\"Found Page ID for {page_name}: {user_id}\")\n",
    "else:\n",
    "    print(f\"Could not find User ID for {page_name}.\")"
   ]
  },
  {
   "cell_type": "markdown",
   "metadata": {},
   "source": [
    "Get the latest post of a page by page_id"
   ]
  },
  {
   "cell_type": "code",
   "execution_count": 5,
   "metadata": {},
   "outputs": [
    {
     "name": "stderr",
     "output_type": "stream",
     "text": [
      "DEBUG:facebook_scraper.facebook_scraper:Requesting page from: intheskytravel04\n",
      "DEBUG:urllib3.connectionpool:Starting new HTTPS connection (1): m.facebook.com:443\n",
      "DEBUG:urllib3.connectionpool:https://m.facebook.com:443 \"GET /intheskytravel04 HTTP/1.1\" 200 None\n",
      "ERROR:facebook_scraper.facebook_scraper:Unable to extract top_post <class 'AssertionError'>:\n",
      "ERROR:facebook_scraper.facebook_scraper:Friend_count extraction failed: list index out of range\n",
      "ERROR:facebook_scraper.facebook_scraper:Follower_count extraction failed: 'NoneType' object has no attribute 'text'\n",
      "DEBUG:facebook_scraper.facebook_scraper:Fetching /intheskytravel04?v=following\n",
      "DEBUG:urllib3.connectionpool:https://m.facebook.com:443 \"GET /intheskytravel04?v=following HTTP/1.1\" 200 None\n",
      "ERROR:facebook_scraper.facebook_scraper:Following_count extraction failed: 'NoneType' object has no attribute 'text'\n",
      "DEBUG:facebook_scraper.facebook_scraper:Requesting page from: https://m.facebook.com/intheskytravel04/about/\n",
      "DEBUG:urllib3.connectionpool:https://m.facebook.com:443 \"GET /intheskytravel04/about/ HTTP/1.1\" 200 None\n",
      "WARNING:facebook_scraper.facebook_scraper:No about section found\n",
      "C:\\Users\\manue\\AppData\\Local\\Temp\\ipykernel_26900\\1702754065.py:9: UserWarning: A low page limit (<=2) might return no results, try increasing the limit\n",
      "  page_id = FbScraper.get_page_id(page_name)\n",
      "DEBUG:facebook_scraper.facebook_scraper:Starting to iterate pages\n",
      "DEBUG:facebook_scraper.page_iterators:Requesting page from: https://m.facebook.com/travel.bg/\n",
      "DEBUG:urllib3.connectionpool:https://m.facebook.com:443 \"GET /travel.bg/ HTTP/1.1\" 200 None\n",
      "DEBUG:facebook_scraper.page_iterators:Parsing page response\n",
      "WARNING:facebook_scraper.page_iterators:No raw posts (<article> elements) were found in this page.\n",
      "DEBUG:facebook_scraper.page_iterators:The page url is: https://m.facebook.com/travel.bg/\n",
      "DEBUG:facebook_scraper.page_iterators:The page content is:\n",
      "+------------------------------------------------------------\n",
      "| \"use strict\";(function(){var a=window.performance||window.msPerformance||window.webkitPerformance;window.__cImp=a&&a.now()})();\n",
      "| Facebook\n",
      "| function envFlush(a){function b(b){for(var c in a)b[c]=a[c]}window.Env=window.Env||{};b(window.Env)}envFlush({\"useTrustedTypes\":false,\"isTrustedTypesReportOnly\":false,\"staticContentOnly\":true,\"appAutoStartDisabled\":true,\"dbg\":false,\"appid\":409962623085609,\"versioncode\":2635,\"tier\":\"daily\"});if(!window.Env||window.Env.staticContentOnly){envFlush({\"sc\":{},\"userid\":0,\"resourcesRefetchingEnabled\":false,\"resourcesBetaFetchingEnabled\":false,\"purl\":\"\",\"swStartupEnabled\":false,\"noRotateImageOnUpload\":true,\"webliteClientPerfLogging\":false,\"shsp\":87,\"swPerfLogging\":false,\"ppid\":null,\"compressionMethod\":\"deflate\",\"vapidpk\":\"\",\"forcevapid\":true,\"fab\":true,\"lfu\":false,\"rp\":\"LOGGED_OUT_SURFACES\",\"rps\":\"1728061137;ASfYpA0YWZ4mZGkl\",\"oz\":false,\"ozl\":false,\"ozlobt\":false,\"ozlobpc\":false,\"oziom\":false,\"oziomap\":false,\"ozool\":false,\"ozulv\":false,\"ozdrcf\":false,\"ozmqr\":0,\"ozbv\":null,\"ozcp\":false,\"cvs\":false,\"sati\":false,\"slodh\":false,\"slodhts\":0,\"wllost\":\"USER\",\"zrs\":false,\"wlloois\":false,\"wllolsd\":\"AVoMCZ3txGw\",\"wllolt\":\"1728061137;AR9qAZAz2ESPOAohxY30Z31B2BD7FftjTyfHs530EYfz-w\",\"spl\":false,\"vcl\":false,\"vpdless_screen_width\":0,\"cbdwc\":false,\"ktokc\":false,\"vpdlen\":false,\"cssr\":false,\"ddcz\":false,\"fvca\":false,\"frsc\":false,\"ship\":false,\"rdte\":false,\"mntns\":false,\"mntnsar\":false,\"mntnsni\":false,\"mntnsdf\":false,\"mntnspc\":false,\"donebtn\":false,\"vpvdopt\":false,\"ush\":false,\"ivocf\":false,\"aezos\":false,\"cetl\":[\"lite_first_screen_drawn\",\"pipe_first_screen_rendered\",\"pipe_first_screen_rendered_v2\",\"client_impression\",\"lite_force_relogin\",\"lite_bundle_main_started\",\"lite_first_screen_resources_drawn\",\"pipe_first_screen_flushed\",\"wbloks_loading\",\"wbloks_loaded\",\"wbloks_loading_failed\",\"weblite_unsupported\",\"font_family_mismatch\",\"lite_first_screen_diff_ready\",\"pipe_first_response_complete\",\"unsupported_interstitial_xout\",\"core_web_vitals\",\"no_successful_render_id\",\"crc_cookie_match\",\"crc_cookie_mismatch\",\"srs_flush_complete_aborting\",\"srs_aborting\",\"pn_register_successfully_completed\",\"pn_register_started\",\"pn_register_permission_request_completed\",\"page_unloads\"],\"sscb\":false,\"wllosscb\":true,\"wlloid\":\"AQxalI3Ax5TbSMQQxyPcXHFT9Z9JfnTI6UsUsmeA_t44l5fQPsubbTAu32tNLN_eCXKR0sJJAEibhOfXOYmxuvrk\",\"esaal\":false,\"ebrs\":false,\"ffvrp\":false,\"fmpih\":false,\"imfe\":false,\"ichsse\":false,\"impid\":\"1D0M0WZ6BVojEOqGP\",\"wbloks\":false,\"bvid\":\"d2cf6e09950d686f0892b87281ecaae92500189dbf3b78ee1bdfee6a61da6541\",\"eip\":false,\"ets\":false,\"wbreg\":false,\"srnbjs\":false,\"sspr\":false,\"sda\":false,\"mtfi\":false,\"mtfieh\":\"\",\"mtfic\":\"\",\"mtfidc\":\"\",\"rwos\":false,\"wlsv\":false,\"scm\":false,\"rwlo\":false,\"ulsfps\":false,\"ttelsps\":30,\"tbpsabn\":false,\"sssra\":false,\"sdmdi\":0,\"sifn\":false,\"sgb1eoe\":false,\"phsaeioc\":false,\"pav\":true,\"cie\":false,\"lsc\":false,\"spad\":0,\"rvpfai\":false,\"svoiv\":false,\"esmq\":false,\"srveia\":false,\"aaa\":false,\"spvcm\":false,\"shvnclo\":true,\"srve\":false,\"sflos\":false,\"srwo\":false,\"ssrf\":false,\"snbtrm\":false,\"ourl\":null,\"sahai\":false,\"s16\":false,\"nwcvpd\":false,\"nvc\":false,\"pis\":false,\"snbcih\":false,\"srssiog\":false,\"srsiog\":false,\"ssba\":false,\"e2e\":null,\"gqlh\":null,\"vchngevnt\":false,\"vpvdrt\":false,\"rraoy\":false,\"sfm\":false,\"tiwc\":false,\"nxeh\":false,\"dec\":false,\"bcc\":false,\"rzbdos\":false,\"lnsri\":false,\"edl\":false,\"ipt\":false,\"bssel\":false,\"mcf\":false,\"ism\":0,\"lwat\":false,\"nbp\":false});window.Env.staticContentOnly=false;}\"use strict\";(function(){if(Math.random()>.01)return;window.onerror=function(a,b,c,d,e){if(window.XMLHttpRequest){var f=window.Env||{},g=f.appid;g=g===void 0?\"\":g;var h=f.versioncode;h=h===void 0?0:h;var i=f.userid;i=i===void 0?0:i;f=f.version;f=f===void 0?\"\":f;e=e&&e.stack?e.stack:c+\":\"+d;c={appid:g,version:f,versioncode:h,userid:i,msg:a,stack:e,source:b,soft:!1,nonbundle:!0,lid:window.WebLiteClientLogger?window.WebLiteClientLogger.lid:null};d=\"/mobile/lite_error_logs?log=\"+encodeURIComponent(JSON.stringify(c));window.navigator.sendBeacon(d)}}})();\"use strict\";window.WebLiteLid=function(){var a=\"\",b=null;function c(){return a}function d(){return b}function e(a){b=a}function f(b){a=b?b:g()}function g(){return\"xxxxxxxx-xxxx-4xxx-yxxx-xxxxxxxxxxxx\".replace(/[xy]/g,function(a){var b=Math.random()*16|0;a=a==\"x\"?b:b&3|8;return a.toString(16)})}return{init:f,getLid:c,setComplimentaryLid:e,getComplimentaryLid:d}}();WebLiteLid.init(\"7421966068980487698\");\"use strict\";window.WebLiteClientLogger=function(){var a=null,b=null,c=\"\",d=1,e=!1,f=0,g=!1,h,i=null,j=1,k=!1,l=null,m=[],n=[],o=[],p=window.performance||window.msPerformance||window.webkitPerformance||{},q=window.location.origin||window.location.protocol+\"//\"+window.location.hostname+(window.location.port&&\":\"+window.location.port),r={init:t,initDynamic:s,initDynamicV2:u,log:I,logEvent:G,markClientBundleStart:M,subscribeAndConsumeBufferedEvents:Q,setIsUsingEarlyConnect:x,incrementAttempt:N,setPreload:O,getLogEntries:D,getOrigin:v,setOrigin:w,origin:q,lid:\"\",dtsg:\"\",sprinkleParamName:\"\",sprinkleValue:\"\",subscribe:P,uri:\"\",disableRML:!1,pageID:\"\"};function s(a,b,c){r.dtsg=a,r.sprinkleParamName=b,r.sprinkleValue=c}function t(d){r.lid=window.WebLiteLid.getLid(),r.uri=window.location&&window.location.href,r.disableRML=d.disableRML,r.pageID=d.pageID,c=d.initLogPath,e=d.initLoadedViaSwCache,l=d.landingChannel,h=window.Env&&window.Env.nbp,w(d.initOrigin),document.hidden!==void 0?(a=\"hidden\",b=\"visibilitychange\"):document.mozHidden!==void 0?(a=\"mozHidden\",b=\"mozvisibilitychange\"):document.msHidden!==void 0?(a=\"msHidden\",b=\"msvisibilitychange\"):document.webkitHidden!==void 0&&(a=\"webkitHidden\",b=\"webkitvisibilitychange\"),C(),window.addEventListener(\"beforeunload\",function(){G(\"page_unloads\")}),G(\"client_impression\",{overrideTimestamp:window.__cImp})}function u(a){r.dtsg=a.initDtsg,r.sprinkleParamName=a.initSprinkleParamName,r.sprinkleValue=a.initSprinkleValue}function v(){return q}function w(a){q=a}function x(a){i=a}function y(){return d++}function z(){if(f!==0)return;f=Math.floor(p.now())}function A(){document[a]?(z(),g?G(\"page_hidden_after_app_start\"):G(\"page_hidden_before_app_start\"),document.removeEventListener(b,A)):G(\"page_revisible\")}function B(){return document.visibilityState===\"prerender\"||document.prerendering===!0}function C(){if(!b||!a)return;if(document[a]){var c=window.Env&&window.Env.dsvcfp;(!c||!B())&&z();G(\"page_started_not_visible\",{extra:{visibilityState:document.visibilityState,prerendering:document.prerendering}})}document.addEventListener(b,A)}function D(){return n}function E(){return window.Env!==void 0&&window.Env!==null&&window.Env.cetl!==void 0&&window.Env.cetl!==null&&Array.isArray(window.Env.cetl)}function F(a){return!E()?!0:window.Env.cetl.indexOf(a)>=0}function G(b,d){var g=window.Env&&window.Env.dbg,q=F(b);if(!q&&!g)return;g&&(p.measure&&p.measure(b));var s=d&&d.overrideTimestamp;(s===void 0||s===null)&&(s=p.now());var t={event:b,eventTime:Math.floor(s)};if(g){var u=d&&d.extra;u&&(t.extra=u);n.push(t)}u=window.WWWClientLoggerUtil&&window.WWWClientLoggerUtil.getMetadata&&window.WWWClientLoggerUtil.getMetadata()||{};var v=u.wsReadyState,w=u.wsBufferedAmount,x=u.clientID,z=u.topScreenURI,A=u.postCrashStartup;u=u.localStorageStatusJson;var B=window.navigator,C={l:r.lid,e:b,t:Math.floor(s),s:y(),lsc:e?1:0,swc:B.serviceWorker&&B.serviceWorker.controller?1:0,fvc:f,ardr:!1,a:j,iw:window.innerWidth,ow:window.outerWidth,dw:window.document.documentElement.clientWidth,ih:window.innerHeight,oh:window.outerHeight,dh:window.document.documentElement.clientHeight,sw:screen.width,sh:screen.height,saw:screen.availWidth,sah:screen.availHeight,dpr:window.devicePixelRatio,u:r.uri,h:a!=null&&document[a],ics:E()};B&&B.hardwareConcurrency!==void 0&&(C.nc=B.hardwareConcurrency);B&&B.deviceMemory&&(C.r=B.deviceMemory);B&&B.connection&&(typeof B.connection.downlink===\"number\"&&(C.dl=B.connection.downlink),typeof B.connection.effectiveType===\"string\"&&(C.ect=B.connection.effectiveType),typeof B.connection.rtt===\"number\"&&(C.rtt_ms=B.connection.rtt));l!=null&&(C.lc=l);b=p.getEntriesByType(\"navigation\");if(b.length>0){s=b[0];C.nt=s.type}else{b=\"unknown\";switch(p.navigation.type){case p.navigation.TYPE_NAVIGATE:b=\"navigate\";break;case p.navigation.TYPE_RELOAD:b=\"reload\";break;case p.navigation.TYPE_BACK_FORWARD:b=\"back_forward\";break}C.nt=b}window._clientSharedState&&(H(window._clientSharedState.scrollX)||(C.sx=window._clientSharedState.scrollX),H(window._clientSharedState.scrollY)||(C.sy=window._clientSharedState.scrollY));v!==void 0&&v!==null&&(C.wsrs=v);window.navigator!==void 0&&B!==null&&(C.o=window.navigator.onLine);w!==void 0&&w!==null&&(C.wsb=w);x!==void 0&&x!==null&&(C.cid=x);z!==void 0&&z!==null&&(C.tsu=z);A!==void 0&&A!==null&&(C.pc=A);u!==void 0&&u!==null&&(C.lssj=u);r.dtsg&&r.sprinkleParamName&&r.sprinkleValue&&(C.fb_dtsg=r.dtsg,C[r.sprinkleParamName]=r.sprinkleValue);i!==null&&(C.is_ec=i?1:0);s=window.WebLiteLid.getComplimentaryLid();s!==null&&(C.cl=s);(k||window.WebLitePipe)&&(C.pl=!0);d&&(typeof d.screenID===\"number\"&&!isNaN(d.screenID)&&(C.sid=d.screenID),d.wsAddress!==void 0&&(C.wsa=d.wsAddress),d.firstMsgCode!==void 0&&(C.fmc=d.firstMsgCode),d.pipeMessageDecodingTime!==void 0&&(C.pmd=d.pipeMessageDecodingTime),d.pipeEncodedMessageOverallSize!==void 0&&(C.pems=d.pipeEncodedMessageOverallSize),d.pipeDecodedMessageOverallSize!==void 0&&(C.pdms=d.pipeDecodedMessageOverallSize),d.attemptedScreenTransition!==void 0&&(C.ast=d.attemptedScreenTransition),d.attemptedScreenTransitionCount!==void 0&&(C.astc=d.attemptedScreenTransitionCount),d.attemptedClicksCount!==void 0&&(C.acc=d.attemptedClicksCount),d.replayedInteractionsCount!==void 0&&(C.ric=d.replayedInteractionsCount),d.extra!==void 0&&(C.ex=d.extra));b=window.Env;if(b!==void 0&&b!==null){v=b.hostLid;B=b.rp;v!==null&&v!==void 0&&(C.hl=v);H(B)||(C.rp=B);w=b.versioncode;w!==null&&w!==void 0&&(C.lcv=w);x=b.wllolt;x!==null&&x!==void 0&&(C.lot=x);z=b.wllost;z!==null&&z!==void 0&&(C.lost=z);A=b.impid;A!==null&&A!==void 0&&(C.impid=A);u=r.pageID;u!==null&&u!==void 0&&(C.pid=u);if(g){s=\"WebLite Client: \"+C.e;q}}h&&m.push(t);o.forEach(function(a){a(c,C)});q&&r.log(c,C)}function H(a){return a===void 0||a===null}function I(a,b){if(!K(a,b)){a=J(a,b);L(a)}}function J(a,b){var c=[],d=function(a){var d=b[a];if(d!=null)if(Array.isArray(d)){var e=d;for(var f=0;f<e.length;f++)c.push(a+\"[]=\"+encodeURIComponent(e[f]))}else typeof d===\"object\"?Object.keys(d).forEach(function(b){c.push(a+(\"[\"+b+\"]=\")+encodeURIComponent(d[b]))}):c.push(a+\"=\"+encodeURIComponent(b[a].toString()))};for(var e in b)d(e);r.disableRML&&c.push(\"_nc_rml=0\");d=v()+a;e=c.join(\"&\");return d+\"?\"+e}function K(a,b){return!window.navigator||!window.navigator.sendBeacon?!1:window.navigator.sendBeacon(J(a,b))}function L(a,b){b===void 0&&(b=3);var c=new Image();b&&(c.onerror=function(c){L(a,b-1)});c.src=a}function M(){g=!0,G(\"lite_bundle_main_started\")}function N(){++j}function O(){k=!0}function P(a){o.push(a)}function Q(a){if(!h)return;h=!1;m.forEach(function(b){a(c,{e:b.event,t:b.eventTime})});m=[];P(a)}if(window.Env&&window.Env.lnsri){t=function(a,b){b.e===\"lite_first_screen_resources_drawn\"&&(document.querySelector(\"div[data-successful-render-id]\")===null&&G(\"no_successful_render_id\"))};P(t)}return r}();WebLiteClientLogger.init({\"initLogPath\":\"\\/ajax\\/weblite_load_logging\\/\",\"initLoadedViaSwCache\":false,\"initOrigin\":\"https:\\/\\/m.facebook.com\",\"disableRML\":false,\"pageID\":100064632374739,\"landingChannel\":null});\"use strict\";window.WebLitePipe=function(){var a;if(window.WebLitePipe)return window.WebLitePipe;var b=null,c=null,d=null,e=null,f={},g=null,h=[],i=!1,j=!1,k=!1,l=0,m=0,n=0,o=null,p=null,q=[],r=!1,s=!1,t=!1,u=!1;(function(){window.addEventListener(\"DOMContentLoaded\",function(a){window.setTimeout(function(){i||B.logEvent(\"pipe_no_www_response\")},0)})})();var v=!1;(function(){B.logEvent(\"pipe_www_timeout_v2\")});var w=function(a){h.push(a)},x=function(a){c=a,$(a)},y=function(){},z=function(){},A,B=window.WebLiteClientLogger||{logEvent:function(){}},C=(a=window.WebLiteLid)==null?void 0:a.getLid(),D=window.performance||window.msPerformance||window.webkitPerformance||{};function E(a){b=a}function F(a){d=a}function G(a){e=a}function H(a){g=a}function I(a){f=a}function J(a){B.logEvent(\"pipe_stickytoken_set\"),x(a)}function K(){i||(B.logEvent(\"pipe_first_response_complete\"),y(),i=!0)}function L(a){var b=q[a];b!=void 0?(b(),window.setTimeout(function(){return L(a+1)},0)):r=!0}function M(){if(s)return;s=!0;window.Env&&window.Env.sel?L(0):(q.forEach(function(a){return a()}),r=!0)}function N(){M()}function O(){if(!j){j=!0;B.logEvent(\"pipe_first_screen_flushed\");var a=window.setTimeout(M,250);window.requestAnimationFrame&&window.requestAnimationFrame(function(){B.logEvent(\"pipe_first_screen_rendered\"),window.clearTimeout(a),window.setTimeout(N,0)});!window.requestAnimationFrame||document.hidden?M():window.addEventListener(\"visibilitychange\",function(a){window.setTimeout(M,0)})}}function P(a){B.logEvent(\"pipe_flush_complete\",{pipeMessageDecodingTime:Math.floor(l),pipeEncodedMessageOverallSize:m,pipeDecodedMessageOverallSize:n}),o=a,z(),K()}function Q(){return window.WebLitePreHydrationInteractionsRecorder?window.WebLitePreHydrationInteractionsRecorder.concludeEventRecording(!1):{clicksCount:0,clickedActionIds:[]}}function R(a){var b=D.now(),c=window.atob(a),d=new Uint8Array(new ArrayBuffer(c.length));for(var e=0;e<c.length;e++)d[e]=c.charCodeAt(e);e=d.buffer;l+=D.now()-b;m+=a.length;n+=c.length;return e}function S(a){p=a,A?T():t=!0}function T(){A&&(B.logEvent(\"starting_early_retry\"),A(p),A=void 0,t=!1,u=!0)}function U(){return u}function V(a){k||(k=!0,B.logEvent(\"www_message_received\")),w(R(a))}function W(a){w=a}function X(a){x=a}function Y(a){y=a}function Z(a){z=a}function aa(a){A=a,t&&T()}function ba(){return b}function ca(){return c}function da(){return d}function ea(){return e}function fa(){return g}function ga(){return h}function ha(){return f}function ia(){h=[]}function ja(){return o}function ka(){return p}function $(a){if(window.__lws!==void 0||b==null)return;if(window.Env.dec)return;var c={lid:C};window.Env.compressionMethod&&(c.cm=window.Env.compressionMethod);window.Env.sfm&&(c.sfm=\"1\");var d=b.z?b.zhostname:b.dhostname,e=b.z?b.zprxh:b.dprxh;e!=null&&(c.prxh=e);window.Env.wllosscb&&window.Env.wlloid&&(c.epcid=window.Env.wlloid);var f=[];Object.keys(c).forEach(function(a){var b=c[a];b!==void 0&&f.push(encodeURIComponent(a)+\"=\"+encodeURIComponent(b))});e=\"?\"+f.join(\"&\");a=a==null?\"99999\":a.toString();var g=\"0\".repeat(10-a.length);window.__lws=new WebSocket((b.secure?\"wss\":\"ws\")+\"://\"+d+\":\"+b.port+\"/ws/\"+g+a+e);window.__lws.onopen=function(a){return B.logEvent(\"early_connection_opened\")};B.logEvent(\"opening_early_connection\")}function la(){return i}function ma(){return j}function na(){return v}function oa(a){r?a():q.push(a)}return{setConnectionPoolConfig:E,setLoginId:F,setPreSessionId:G,setPigeonSessionId:H,setExtraConfig:I,setStickyToken:J,setFirstResponseComplete:K,setFirstScreenFlushComplete:O,setFlushComplete:P,concludePreHydrationLogging:Q,startEarlyRetry:S,didEarlyRetryTrigger:U,getEarlyRetryMessageCount:ka,onMessage:V,setOnMessageCallback:W,setOnStickytokenUpdateCallback:X,setOnFirstResponseCompleteCallback:Y,setOnFlushCompleteCallback:Z,setOnStartEarlyRetryCallback:aa,getConnectionPoolConfig:ba,getStickyToken:ca,getLoginId:da,getPreSessionId:ea,getPigeonSessionId:fa,getExtraConfig:ha,getPendingMessages:ga,getLiteMessageCount:ja,resetPendingMessages:ia,isFirstResponseComplete:la,isFirstScreenFlushComplete:ma,isTimeout:na,earlyConnect:$,callAfterScreenRendered:oa}}();\n",
      "| div#logoSplashScreen{background-color:#fff;height:100%;width:100%;overflow:hidden;position:fixed}div#logoSplashScreen .FBLogo{position:fixed;width:72px;height:72px;left:50%;top:50%;transform:translate(-50%, -50%) translateY(-32px);background-image:url(\"data:image/svg+xml,%3csvg xmlns='http://www.w3.org/2000/svg' style='fill:none;' viewBox='0 0 500 501'%3e%3cpath style='fill:%230866FF;' d='M500 250.199C500 112.099 388.1 .199219 250 .199219C111.9 .199219 0 112.099 0 250.199C0 367.399 80.7 465.799 189.6 492.799V326.599H138V250.199H189.6V217.299C189.6 132.199 228.1 92.7992 311.6 92.7992C327.4 92.7992 354.8 95.8992 365.9 98.9992V168.299C360 167.699 349.8 167.399 337 167.399C296 167.399 280.2 182.899 280.2 223.299V250.299H361.9L347.9 326.699H280.3V498.499C404.1 483.499 500 378.099 500 250.199Z'/%3e%3cpath d='M347.9 326.599L361.9 250.199H280.2V223.199C280.2 182.799 296 167.299 337 167.299C349.7 167.299 360 167.599 365.9 168.199V98.9988C354.7 95.8988 327.4 92.7988 311.6 92.7988C228.1 92.7988 189.6 132.199 189.6 217.299V250.199H138V326.599H189.6V492.799C208.9 497.599 229.2 500.199 250 500.199C260.3 500.199 270.4 499.599 280.3 498.399V326.599H347.9Z' style='fill:white;'/%3e%3c/svg%3e\");background-repeat:no-repeat}div#logoSplashScreen .splashScreenAttribution{position:fixed;width:74px;height:38px;left:50%;bottom:32px;transform:translate(-50%, 0%);background-image:url(\"data:image/svg+xml,%3csvg xmlns='http://www.w3.org/2000/svg' viewBox='0 0 979.39 500'%3e %3cg transform='translate(-197.37%2c-197.37)'%3e %3cg style='fill:%2367788A%3b'%3e %3cpath d='m505.34 339.98v-82.57h-18v-13.18h18v-12.03c0-11.35 2.89-20 8.66-25.93s13.76-8.9 23.96-8.9c6.03 0 11.32 .67 15.88 2.02v13.57c-2.63-0.71-5.05-1.19-7.27-1.44-2.21-0.26-4.38-0.38-6.5-0.38-13.02 0-19.53 6.67-19.53 20.01v13.09h32.62v13.18h-32.62v82.57h-15.2z'/%3e %3cpath d='m574.53 339.98v-95.75h15.2v16.65c3.01-6.03 6.87-10.66 11.55-13.9s10.1-4.86 16.26-4.86c2.95 0 5.77 .29 8.47 .87v15.21c-1.48-0.19-3.06-0.35-4.76-0.48s-3.35-0.19-4.96-0.19c-6.99 0-12.65 2.13-16.98 6.4s-7.52 9.96-9.58 17.08v58.99h-15.2z'/%3e %3cpath d='m685.28 342.1c-9.56 0-17.84-2.15-24.83-6.45s-12.4-10.2-16.21-17.71c-3.82-7.51-5.73-16.1-5.73-25.79 0-9.75 1.91-18.38 5.73-25.89s9.22-13.41 16.21-17.71 15.27-6.45 24.83-6.45h1.93c9.56 0 17.83 2.15 24.83 6.45 6.99 4.3 12.4 10.2 16.21 17.71 3.82 7.51 5.73 16.14 5.73 25.89 0 9.69-1.91 18.28-5.73 25.79s-9.22 13.41-16.21 17.71-15.27 6.45-24.83 6.45zm0.1-14.05h1.73c9.56 0 17.13-3.27 22.71-9.82 5.58-6.54 8.37-15.24 8.37-26.08 0-10.91-2.79-19.61-8.37-26.13-5.58-6.51-13.15-9.77-22.71-9.77h-1.73c-9.56 0-17.13 3.26-22.71 9.77s-8.37 15.22-8.37 26.13c0 10.84 2.79 19.53 8.37 26.08 5.58 6.54 13.15 9.82 22.71 9.82z'/%3e %3cpath d='m756.01 339.98v-95.75h15.2v17.8c3.46-6.16 7.89-11.02 13.28-14.58s11.64-5.34 18.76-5.34h1.93c15.91 0 26.14 7.64 30.7 22.9 3.66-7.06 8.42-12.64 14.29-16.74 5.87-4.11 12.62-6.16 20.26-6.16h2.02c10.78 0 19 3.61 24.68 10.83s8.52 17.53 8.52 30.94v56.1h-15.2v-53.89c0-19.89-7.28-29.83-21.84-29.83h-1.73c-6.87 0-12.77 2.28-17.71 6.83-4.94 4.56-8.53 10.33-10.78 17.32v59.57h-15.2v-53.89c0-19.89-7.25-29.83-21.75-29.83h-1.83c-6.87 0-12.75 2.28-17.66 6.83-4.91 4.56-8.49 10.33-10.73 17.32v59.57z'/%3e %3c/g%3e %3cg style='fill:%231877F2%3b'%3e %3cpath d='m556.85 506.34h37.12l63.12 114.17 63.12-114.17h36.32v187.61h-30.29v-143.79l-55.34 99.57h-28.41l-55.34-99.57v143.79h-30.29v-187.61z'/%3e %3cpath d='m854.2 697.3c-14.03 0-26.35-3.11-36.99-9.31-10.63-6.21-18.92-14.81-24.86-25.8s-8.91-23.58-8.91-37.79c0-14.38 2.9-27.11 8.71-38.19s13.87-19.74 24.19-26c10.32-6.25 22.18-9.38 35.58-9.38 13.31 0 24.77 3.15 34.37 9.45s17 15.12 22.18 26.47 7.77 24.66 7.77 39.93v8.31h-102.77c1.88 11.44 6.5 20.44 13.87 27 7.37 6.57 16.68 9.85 27.94 9.85 9.02 0 16.79-1.34 23.32-4.02 6.52-2.68 12.64-6.74 18.36-12.19l16.08 19.7c-16 14.65-35.61 21.97-58.84 21.97zm22.12-111.29c-6.34-6.48-14.65-9.72-24.92-9.72-10.01 0-18.38 3.31-25.13 9.92s-11.01 15.5-12.8 26.67h73.7c-0.89-11.44-4.51-20.39-10.85-26.87z'/%3e %3cpath d='m952.97 578.97h-27.87v-24.79h27.87v-41.01h29.21v41.01h42.35v24.79h-42.35v62.85c0 10.45 1.79 17.91 5.36 22.38s9.69 6.7 18.36 6.7c3.84 0 7.1-0.15 9.78-0.47 2.68-0.31 5.63-0.74 8.84-1.27v24.52c-3.31 .98-7.03 1.79-11.19 2.41-4.15 .62-8.51 .94-13.07 .94-31.54 0-47.3-17.24-47.3-51.73v-66.33z'/%3e %3cpath d='m1176.8 693.95h-28.68v-19.56c-5.09 7.33-11.57 12.98-19.43 16.95s-16.8 5.96-26.8 5.96c-12.33 0-23.25-3.15-32.76-9.45s-17-14.96-22.45-26c-5.45-11.03-8.17-23.65-8.17-37.86 0-14.29 2.77-26.94 8.31-37.92 5.54-10.99 13.2-19.61 22.98-25.86s21.02-9.38 33.7-9.38c9.56 0 18.14 1.86 25.73 5.56 7.59 3.71 13.89 8.96 18.89 15.74v-17.96h28.68zm-29.21-90.86c-3.13-7.95-8.06-14.23-14.81-18.83s-14.54-6.9-23.38-6.9c-12.51 0-22.47 4.2-29.88 12.6-7.42 8.4-11.12 19.74-11.12 34.04 0 14.38 3.57 25.77 10.72 34.17s16.84 12.6 29.08 12.6c9.02 0 17.06-2.32 24.12-6.97 7.06-4.64 12.15-10.9 15.28-18.76v-41.95z'/%3e %3cpath d='m410.52 500c-24.35 0-43.39 18.34-60.62 41.64-23.69-30.15-43.49-41.64-67.19-41.64-48.32 0-85.34 62.88-85.34 129.44 0 41.65 20.15 67.92 53.9 67.92 24.29 0 41.76-11.45 72.82-65.74 0 0 12.95-22.86 21.85-38.61 3.12 5.04 6.4 10.46 9.86 16.29l14.56 24.5c28.37 47.48 44.18 63.57 72.82 63.57 32.88 0 51.18-26.63 51.18-69.15 .01-69.69-37.85-128.22-83.84-128.22zm-110.12 116.92c-25.18 39.47-33.89 48.32-47.91 48.32-14.43 0-23-12.67-23-35.25 0-48.32 24.09-97.73 52.81-97.73 15.55 0 28.55 8.98 48.46 37.48-18.91 29-30.36 47.18-30.36 47.18zm95.04-4.97-17.41-29.04c-4.71-7.66-9.23-14.71-13.59-21.16 15.69-24.22 28.64-36.29 44.04-36.29 31.99 0 57.58 47.1 57.58 104.94 0 22.05-7.22 34.85-22.19 34.85-14.35-0.01-21.2-9.48-48.43-53.3z'/%3e %3c/g%3e %3c/g%3e %3c/svg%3e\");background-repeat:no-repeat}\n",
      "| window.__rsrcs={\"T4Fc48L\":{\"src\":\"https:\\/\\/z-m-static.xx.fbcdn.net\\/rsrc.php\\/v3\\/yf\\/l\\/0,cross\\/gcixTjS9Mu9.css\",\"crossorigin\":\"anonymous\",\"data-cacheable\":\"1\",\"n\":\"styles\",\"app-dep\":\"0\",\"hash\":\"T4Fc48L\",\"type\":\"css\",\"root\":\"wl\",\"pri\":\"0\"},\"8gCZLuZ\":{\"src\":\"https:\\/\\/z-m-static.xx.fbcdn.net\\/rsrc.php\\/v3\\/ys\\/r\\/GUmEkMrcXwJ.js\",\"crossorigin\":\"anonymous\",\"data-cacheable\":\"1\",\"n\":\"polyfills\",\"app-dep\":\"1\",\"hash\":\"8gCZLuZ\",\"type\":\"js\",\"root\":\"wl\",\"pri\":\"0\"},\"NgE9uih\":{\"src\":\"https:\\/\\/z-m-static.xx.fbcdn.net\\/rsrc.php\\/v3\\/yl\\/r\\/FILrudtB4Mh.js\",\"crossorigin\":\"anonymous\",\"data-cacheable\":\"1\",\"n\":\"bundle\",\"app-dep\":\"1\",\"hash\":\"NgE9uih\",\"type\":\"js\",\"root\":\"wl\",\"pri\":\"0\"},\"1uyZROR\":{\"src\":\"https:\\/\\/z-m-static.xx.fbcdn.net\\/rsrc.php\\/v3\\/yn\\/l\\/0,cross\\/U7aAPbN12QV.css\",\"crossorigin\":\"anonymous\",\"data-cacheable\":\"1\",\"n\":\"native-fonts-definitions\",\"app-dep\":\"0\",\"hash\":\"1uyZROR\",\"type\":\"css\",\"root\":\"wl\",\"pri\":\"0\"},\"nl\\/iaKN\":{\"src\":\"https:\\/\\/z-m-static.xx.fbcdn.net\\/rsrc.php\\/v3\\/yg\\/l\\/0,cross\\/c6cKeenBnzu.css\",\"crossorigin\":\"anonymous\",\"data-cacheable\":\"1\",\"n\":\"native-font-styles\",\"app-dep\":\"0\",\"hash\":\"nl\\/iaKN\",\"type\":\"css\",\"root\":\"wl\",\"pri\":\"0\"},\"8iZ+IeU\":{\"src\":\"https:\\/\\/z-m-static.xx.fbcdn.net\\/rsrc.php\\/yH\\/r\\/o-WxdMaAFm9.woff2\",\"crossorigin\":\"anonymous\",\"data-cacheable\":\"1\",\"n\":\"lite-glyphs-font\",\"app-dep\":\"0\",\"hash\":\"8iZ+IeU\",\"type\":\"woff2\",\"root\":\"wl\",\"pri\":\"0\"},\"8H+\\/fAA\":{\"src\":\"https:\\/\\/z-m-static.xx.fbcdn.net\\/rsrc.php\\/v3\\/ye\\/r\\/aofYY6iZXjs.js?_nc_wblx=1\",\"crossorigin\":\"anonymous\",\"data-cacheable\":\"1\",\"n\":\"wbloks\",\"app-dep\":\"0\",\"hash\":\"8H+\\/fAA\",\"type\":\"js\",\"root\":\"wl\",\"pri\":\"1\"},\"H4Gphlg\":{\"src\":\"https:\\/\\/z-m-static.xx.fbcdn.net\\/rsrc.php\\/v3\\/yX\\/r\\/UREFLaUCdG0.js\",\"crossorigin\":\"anonymous\",\"data-cacheable\":\"1\",\"n\":\"canvas-image-resizer\",\"app-dep\":\"1\",\"hash\":\"H4Gphlg\",\"type\":\"js\",\"root\":\"wl\",\"pri\":\"0\"},\"BT3b8Sv\":{\"src\":\"https:\\/\\/z-m-static.xx.fbcdn.net\\/rsrc.php\\/v3\\/y3\\/r\\/LRyA9KXXYxn.js\",\"crossorigin\":\"anonymous\",\"data-cacheable\":\"1\",\"n\":\"web-vitals\",\"app-dep\":\"1\",\"hash\":\"BT3b8Sv\",\"type\":\"js\",\"root\":\"wl\",\"pri\":\"0\"}};\n",
      "| \"use strict\";window.WebLiteBootloader=function(){if(window.WebLiteBootloader)return window.WebLiteBootloader;var a={},b={};function c(c){Object.keys(c).forEach(function(d){var e=c[d];e.hash=d;a[e.n]=e;b[e.src]=e.n})}function d(a,b,c){var d,e=document.createElement(\"script\");e.setAttribute(\"src\",a.src);e.setAttribute(\"data-bootloader-hash\",a.hash);((d=window.Env)==null?void 0:d.aaa)||e.setAttribute(\"async\",\"1\");e.setAttribute(\"data-cacheable\",a[\"data-cacheable\"]);a.crossorigin!==\"\"&&e.setAttribute(\"crossorigin\",a.crossorigin);e.addEventListener(\"load\",b);e.addEventListener(\"error\",c);document.head&&document.head.appendChild(e)}function e(a,b,c){var d=document.createElement(\"link\");d.setAttribute(\"href\",a.src);d.setAttribute(\"data-bootloader-hash\",a.hash);d.setAttribute(\"rel\",\"stylesheet\");d.setAttribute(\"type\",\"text/css\");a.crossorigin!==\"\"&&d.setAttribute(\"crossorigin\",a.crossorigin);d.addEventListener(\"load\",b);d.addEventListener(\"error\",c);document.head&&document.head.appendChild(d)}function f(b){var c=a[b];if(!c)return Promise.reject(\"unknown resource name \"+b);if(!c.promise){var f=new Promise(function(a,f){var g=c.type||\"js\";g===\"js\"?d(c,function(){return a(c)},function(){return f(\"failed to load \"+b)}):g===\"css\"?e(c,function(){return a(c)},function(){return f(\"failed to load \"+b)}):f(\"unknown resource type \"+g+\" for \"+b)});c.promise=f}return c.promise}function g(){for(var a=arguments.length,b=new Array(a),c=0;c<a;c++)b[c]=arguments[c];if(b.length>1&&typeof b[1]===\"function\"){var d=b[0],e=b[1],i=function(){};b.length>2&&typeof b[2]===\"function\"&&(i=b[2]);return g(d).then(e,i)}var j=Promise.all(b.map(f));j.then(h);return j}function h(){var c={},d=window.performance.getEntriesByType(\"resource\");d.forEach(function(d){if(d.initiatorType!==\"link\"&&d.initiatorType!==\"script\")return;var e=b[d.name];if(!e)return;e=a[e];if(e.logged)return;e.logged=!0;c[e.n]={n:\"transferSize\"in d?Math.round(d.transferSize):void 0,s:\"decodedBodySize\"in d?Math.round(d.decodedBodySize):void 0,d:\"duration\"in d?Math.round(d.duration):void 0,p:e.pri!==\"0\"?e.pri:void 0,r:e.root,h:e.n===e.hash?void 0:e.hash,t:e.type}});d=window.performance.getEntriesByType(\"navigation\");d.length>0&&(c.document_navigation={n:void 0,s:void 0,d:d[0].responseStart,p:void 0,r:void 0,h:void 0,t:d[0].entryType});if(Object.keys(c).length===0)return;window.WebLiteClientLogger.log(\"/ajax/weblite_resources_timing_logging/\",{l:(d=window.WebLiteLid)==null?void 0:d.getLid(),vc:(d=window.Env)==null?void 0:d.versioncode,v:1,r:JSON.stringify(c)});typeof window.performance.clearResourceTimings===\"function\"&&window.performance.clearResourceTimings()}return{addResourcesConfig:c,load:g,logResourceTimings:h}}();\"use strict\";var RsrcsManager={__clientLogger:window.WebLiteClientLogger||{logEvent:function(){}},init:function(){var a,b=window.__rsrcs||{};window.WebLiteBootloader.addResourcesConfig(b);var c=[];Object.keys(b).forEach(function(a){a=b[a];a[\"app-dep\"]===\"1\"&&c.push(a.n)});(a=window.WebLiteBootloader).load.apply(a,c).then(function(){!window.WebLitePipe||window.WebLitePipe.isFirstResponseComplete()?(RsrcsManager.__startApp(),RsrcsManager.__EnableCWVObserver()):(RsrcsManager.__clientLogger.logEvent(\"pipe_blocking_app_start\"),window.WebLitePipe.setOnFirstResponseCompleteCallback(RsrcsManager.__startApp))})[\"catch\"](function(a){throw new Error(\"SR-Error: \"+a)});RsrcsManager.__clientLogger.logEvent(\"scripts_added_to_dom\")},__startApp:function(){window.Env&&window.Env.dhy?window.setTimeout(RsrcsManager.__startAppImpl,window.Env.dhy):RsrcsManager.__startAppImpl()},__startAppImpl:function(){var a=window.performance&&window.performance.getEntriesByType(\"navigation\");a=a&&a.length>0&&a[0].responseEnd>0;RsrcsManager.__clientLogger.logEvent(\"starting_app_on_script_load\",{extra:{requestEnded:a}});a=window.__startEverything&&window.__startEverything();var b=window.__gwtOnLoad&&window.__gwtOnLoad();a&&b&&a()&&b()},__EnableCWVObserver:function(){if(window.webVitals==null)return;var a=!1;window.webVitals.onLCP(function(b,c){if(a)return;c={lcp_metric:b.value.toFixed(2)};RsrcsManager.__clientLogger.logEvent(\"core_web_vitals\",{extra:c});a=!0})}};RsrcsManager.init();\n",
      "| Log in\n",
      "| @keyframes fade-in-out { 0% { opacity: 0.75; } 50% { opacity: 1; } 100% { opacity: 0.75; } } .FBLogoNew { width:72px; height:72px; left:50%; top:50%; background-image:url(\"data:image/svg+xml,%3csvg xmlns='http://www.w3.org/2000/svg' style='fill:none;' viewBox='0 0 500 501'%3e%3cpath style='fill:%230866FF;' d='M500 250.199C500 112.099 388.1 0.199219 250 0.199219C111.9 0.199219 0 112.099 0 250.199C0 367.399 80.7 465.799 189.6 492.799V326.599H138V250.199H189.6V217.299C189.6 132.199 228.1 92.7992 311.6 92.7992C327.4 92.7992 354.8 95.8992 365.9 98.9992V168.299C360 167.699 349.8 167.399 337 167.399C296 167.399 280.2 182.899 280.2 223.299V250.299H361.9L347.9 326.699H280.3V498.499C404.1 483.499 500 378.099 500 250.199Z'/%3e%3cpath d='M347.9 326.599L361.9 250.199H280.2V223.199C280.2 182.799 296 167.299 337 167.299C349.7 167.299 360 167.599 365.9 168.199V98.9988C354.7 95.8988 327.4 92.7988 311.6 92.7988C228.1 92.7988 189.6 132.199 189.6 217.299V250.199H138V326.599H189.6V492.799C208.9 497.599 229.2 500.199 250 500.199C260.3 500.199 270.4 499.599 280.3 498.399V326.599H347.9Z' style='fill:white;'/%3e%3c/svg%3e\"); background-repeat:no-repeat; }\n",
      "| Cambiar al sitio web para móviles básico.window.__wlsec={\"json_struct\":\"{\\\"webliteAbortCrcMatchFaster\\\":false,\\\"webliteCrawlersShouldUseWWWLiteMapper\\\":true,\\\"webliteShouldUseWWWLiteMapper\\\":true,\\\"webLiteCrawlerLandingFBID\\\":\\\"\\\",\\\"webliteShouldCrawlerUseNewPageViewLogger\\\":false}\",\"compact_struct\":\"IiERKAASAA==\"}\"use strict\";window.WebLiteStartupScheduler=function(){var a=[],b=null;function c(c){b!=null?c(b):a.push(c)}function d(){[\"first_screen_resources_drawn\",\"first_screen_resources_cancellation\",\"first_screen_resources_failure\"].forEach(function(b){window.addEventListener(b,function(b){a.forEach(function(a){a(b)})})}),c(function(a){b=a})}d();return{onAfterStartup:c}}();\"use strict\";window.WebBloksRuntime=function(){var a=null,b=null,c=window.WebLiteClientLogger||{logEvent:function(){}};function d(){b==null&&(c.logEvent(\"wbloks_loading\"),b=new Promise(function(b,d){if(window.__dev__wbloks===!0){a=window.WebBloksInWebLite;b(a);return}window.WebLiteBootloader.load(\"wbloks\").then(function(d){c.logEvent(\"wbloks_loaded\"),a=window.WebBloksInWebLite,b(a)})[\"catch\"](function(){c.logEvent(\"wbloks_loading_failed\"),d(new Error(\"Cannot bootstrap WebBloks.\"))})}));return b}function e(){return a!=null}return{load:d,isWebBloksRequireable:e}}();WebLiteLid.setComplimentaryLid(\"7421966068980487698\");WebLiteClientLogger.initDynamic && WebLiteClientLogger.initDynamic(\"NAcOrqfcpZnmaoj9dhMhJjcdvVpYOi8kf4aAiP73W9I_APYjVmsQEhQ:0:0\", \"jazoest\", \"25173\");WebLiteClientLogger.initDynamicV2 && WebLiteClientLogger.initDynamicV2({\"initDtsg\":\"NAcOrqfcpZnmaoj9dhMhJjcdvVpYOi8kf4aAiP73W9I_APYjVmsQEhQ:0:0\",\"initSprinkleParamName\":\"jazoest\",\"initSprinkleValue\":\"25173\"});window.__cm={\"c_user\":{\"t\":31536000},\"cppo\":{\"t\":86400},\"dpr\":{\"t\":604800},\"fbl_st\":{\"t\":31536000},\"hckd\":{},\"i_user\":{\"t\":31536000},\"locale\":{\"t\":604800},\"m_ls\":{\"t\":34560000},\"m_pixel_ratio\":{\"t\":604800},\"noscript\":{},\"presence\":{\"t\":2592000},\"sfau\":{},\"usida\":{},\"vpd\":{\"t\":5184000},\"wd\":{\"t\":604800},\"wl_cbv\":{\"t\":7776000},\"x-referer\":{},\"x-src\":{\"t\":1}}\n",
      "| Este navegador no es compatible\n",
      "| Usar la aplicación de Facebook\n",
      "| toca para utilizar un navegador compatible\n",
      "| Chrome\n",
      "| Firefox\n",
      "| Edge\n",
      "| \"use strict\";var _logger=window.WebLiteClientLogger||window.WebBloksClientLogger||{logEvent:function(){}},supportsWebSockets=\"WebSocket\"in window,supportsCSSVariables=window.CSS&&CSS.supports(\"color\",\"var(--fake-var)\"),supportsScrollRestoration=window.history&&window.history.scrollRestoration,supported=supportsWebSockets&&supportsCSSVariables&&supportsScrollRestoration;if(!supported){window.WebLiteClientLogger&&_logger.logEvent(\"weblite_unsupported\");window.WebBloksClientLogger&&_logger.logEvent(\"BROWSER_UNSUPPORTED\");var element=document.getElementById(\"unsupported-interstitial\");element!=null&&(element.style.display=\"initial\")}else window.WebBloksClientLogger&&_logger.logEvent(\"BROWSER_SUPPORTED\");\n",
      "| (function(){if(window.WebLitePipe){if(WebLitePipe.setConnectionPoolConfig){WebLitePipe.setConnectionPoolConfig({\"dhostname\":\"kaios-d.facebook.com\",\"zhostname\":\"kaios-z.facebook.com\",\"port\":443,\"secure\":true,\"z\":false});}WebLitePipe.setLoginId(21077);WebLitePipe.setPreSessionId(1093711135);WebLitePipe.setPigeonSessionId(5186403628395483);WebLitePipe.setExtraConfig({\"cid\":-1,\"cs\":\"\"});if(!WebLitePipe.callAfterScreenRendered){WebLitePipe.callAfterScreenRendered=function(f){f();};}envFlush({\"dss\":true,\"pfs\":true});WebLitePipe.setFirstResponseComplete();}})(); (function(){if(window.WebLitePipe){WebLitePipe.setStickyToken(101234242);}})(); (function(){if(window.WebLitePipe){WebLitePipe.setFlushComplete(0);}})();+------------------------------------------------------------\n",
      "\n",
      "DEBUG:facebook_scraper.page_iterators:Got 0 raw posts from page\n",
      "DEBUG:facebook_scraper.facebook_scraper:Extracting posts from page 0\n",
      "C:\\Users\\manue\\AppData\\Local\\Temp\\ipykernel_26900\\1702754065.py:10: UserWarning: A low page limit (<=2) might return no results, try increasing the limit\n",
      "  group_id = FbScraper.get_group_id(group_name)\n",
      "DEBUG:facebook_scraper.facebook_scraper:Starting to iterate pages\n",
      "DEBUG:facebook_scraper.page_iterators:Requesting page from: https://m.facebook.com/groups/Traveling Around the World Group/\n",
      "DEBUG:urllib3.connectionpool:https://m.facebook.com:443 \"GET /groups/Traveling%20Around%20the%20World%20Group/ HTTP/1.1\" 200 None\n"
     ]
    },
    {
     "name": "stdout",
     "output_type": "stream",
     "text": [
      "Error retrieving group ID for Traveling Around the World Group: Your request couldn't be processed\n",
      "User ID for 'intheskytravel04': None\n",
      "Page ID for 'travel.bg': None\n",
      "Group ID for 'Traveling Around the World Group': None\n"
     ]
    }
   ],
   "source": [
    "# Get user ID, page ID, and group ID using fb_scraper methods\n",
    "\n",
    "user_name = \"intheskytravel04\"  # Replace with the actual username\n",
    "page_name = \"travel.bg\"  # Replace with the actual page name\n",
    "group_name = \"Traveling Around the World Group\"  # Replace with the actual group name\n",
    "\n",
    "# Retrieve IDs\n",
    "user_id = FbScraper.get_user_id(user_name)\n",
    "page_id = FbScraper.get_page_id(page_name)\n",
    "group_id = FbScraper.get_group_id(group_name)\n",
    "\n",
    "# Print the results\n",
    "print(f\"User ID for '{user_name}': {user_id}\")\n",
    "print(f\"Page ID for '{page_name}': {page_id}\")\n",
    "print(f\"Group ID for '{group_name}': {group_id}\")"
   ]
  },
  {
   "cell_type": "markdown",
   "metadata": {},
   "source": [
    "User ID for 'intheskytravel04': None\n",
    "Page ID for 'travel.bg': None\n",
    "Group ID for 'Traveling Around the World Group': None"
   ]
  },
  {
   "cell_type": "markdown",
   "metadata": {},
   "source": [
    "## Test for Hiker API This is only for\n",
    "Instagram accounts\n",
    "\n",
    "get the FB page from IG accounts that I suggest\n"
   ]
  },
  {
   "cell_type": "code",
   "execution_count": null,
   "metadata": {},
   "outputs": [],
   "source": [
    "%pip install --upgrade hikerapi\n",
    "\n",
    "\n"
   ]
  },
  {
   "cell_type": "code",
   "execution_count": null,
   "metadata": {},
   "outputs": [],
   "source": [
    "from hikerapi import Client\n",
    "\n",
    "hiker_api_key = os.environ[\"HikerAPI_key\"]\n",
    "cl = Client(token=hiker_api_key)"
   ]
  },
  {
   "cell_type": "code",
   "execution_count": null,
   "metadata": {},
   "outputs": [],
   "source": [
    "print(type(cl))"
   ]
  },
  {
   "cell_type": "code",
   "execution_count": null,
   "metadata": {},
   "outputs": [],
   "source": [
    "print(hiker_api_key)"
   ]
  },
  {
   "cell_type": "markdown",
   "metadata": {},
   "source": [
    "### Hiker API - Get user info"
   ]
  },
  {
   "cell_type": "code",
   "execution_count": null,
   "metadata": {},
   "outputs": [],
   "source": [
    "user_info = cl.user_by_username_v2(\"huelvafoodie\")\n",
    "\n",
    "pprint(user_info)"
   ]
  },
  {
   "cell_type": "markdown",
   "metadata": {},
   "source": [
    "## Extract the most important Huelva IG influencers profiles by name\n",
    "##         including their FB id\n",
    "### store them in a JSON file"
   ]
  },
  {
   "cell_type": "markdown",
   "metadata": {},
   "source": [
    "\"\"\"Extracts and analyzes Instagram user information from a JSON file.\n",
    "\n",
    "This class provides methods to process Instagram user data that has been\n",
    "fetched using the HikerAPI and saved in a JSON file. It can extract\n",
    "relevant information, create a Pandas DataFrame, and save it as a CSV file.\n",
    "\n",
    "Methods:\n",
    "    extract_info_data_from_json(input_file): Extracts user data from a JSON file\n",
    "        and returns a DataFrame.\n",
    "    save_to_csv(df, output_file): Saves a DataFrame containing user data to a CSV file.\n",
    "\"\"\"\n"
   ]
  },
  {
   "cell_type": "code",
   "execution_count": null,
   "metadata": {},
   "outputs": [],
   "source": [
    "import os\n",
    "import json\n",
    "from hikerapi import Client\n",
    "\n",
    "\n",
    "def fetch_and_save_profiles(usernames, output_file=\"instagram_profiles.json\"):\n",
    "    \"\"\"Fetches user profiles from HikerAPI and saves the data to a JSON file.\n",
    "\n",
    "    Args:\n",
    "        usernames: A list of Instagram usernames to fetch.\n",
    "        output_file: The path to the JSON file where data will be saved.\n",
    "    \"\"\"\n",
    "\n",
    "    # Load your HikerAPI key securely from an environment variable\n",
    "    hiker_api_key = os.environ.get(\"HikerAPI_key\")\n",
    "    if not hiker_api_key:\n",
    "        raise ValueError(\"HikerAPI_key environment variable not found.\")\n",
    "\n",
    "    # Create the HikerAPI client\n",
    "    cl = Client(token=hiker_api_key)\n",
    "\n",
    "    all_profile_data = []\n",
    "\n",
    "    for username in usernames:\n",
    "        try:\n",
    "            user_info = cl.user_by_username_v2(username)\n",
    "\n",
    "            # If the request is successful, add it to the list\n",
    "            if user_info[\"status\"] == \"ok\":\n",
    "                all_profile_data.append(user_info)\n",
    "            else:\n",
    "                print(f\"Error fetching data for {username}: {user_info.get('error')}\")\n",
    "        except Exception as e:\n",
    "            print(f\"Error fetching data for {username}: {e}\")\n",
    "\n",
    "    # Save the data to a JSON file\n",
    "    with open(output_file, \"w\", encoding=\"utf-8\") as f:\n",
    "        json.dump(all_profile_data, f, ensure_ascii=False, indent=4)"
   ]
  },
  {
   "cell_type": "code",
   "execution_count": null,
   "metadata": {},
   "outputs": [],
   "source": [
    "# call the function to fetch the information\n",
    "usernames_to_fetch = [\n",
    "    \"capturolavida_emn\",\n",
    "    \"huelvafoodie\",\n",
    "    \"laesenciadehuelva\",\n",
    "    \"huelvagram\",\n",
    "    \"agendahuelva\",\n",
    "    \"huelva_secreta\",\n",
    "    \"huelva.explore\",\n",
    "    \"huelva24com\",\n",
    "    \"huelvainformacion\",\n",
    "    \"huelvahoy\",\n",
    "    \"huelvaoriginal\",\n",
    "]\n",
    "\n",
    "# Call the function to fetch and save profiles\n",
    "fetch_and_save_profiles(\n",
    "    usernames_to_fetch\n",
    ")  # add arg for output_file - default \"instagram_profiles.json\""
   ]
  },
  {
   "cell_type": "markdown",
   "metadata": {},
   "source": [
    "## Extract relevant information from the JSON and store it in a pandas data frame\n",
    "## and, latter, store in a .csv file\n",
    "## to access it with Excel or Google Sheets"
   ]
  },
  {
   "cell_type": "code",
   "execution_count": null,
   "metadata": {},
   "outputs": [],
   "source": [
    "import os\n",
    "import json\n",
    "import pandas as pd\n",
    "\n",
    "\n",
    "def extract_profile_data_from_json(\n",
    "    input_file=\"instagram_profiles.json\", output_file=\"instagram_profiles.csv\"\n",
    "):\n",
    "    \"\"\"Loads Instagram profile data from a JSON file, extracts relevant fields,\n",
    "    creates a Pandas DataFrame, and exports it to a CSV file.\n",
    "\n",
    "    Args:\n",
    "        input_file: The path to the JSON file containing the profile data.\n",
    "        output_file: The path to save the CSV file.\n",
    "    \"\"\"\n",
    "\n",
    "    with open(input_file, \"r\", encoding=\"utf-8\") as f:\n",
    "        all_profile_data = json.load(f)\n",
    "\n",
    "    extracted_data = []\n",
    "\n",
    "    for profile in all_profile_data:\n",
    "        if profile[\"status\"] == \"ok\":\n",
    "            user = profile[\"user\"]\n",
    "            extracted_data.append(\n",
    "                {\n",
    "                    \"username\": user[\"username\"],\n",
    "                    \"full_name\": user[\"full_name\"],\n",
    "                    \"instagram_id\": user.get(\n",
    "                        \"pk\", user.get(\"pk_id\")\n",
    "                    ),  # Extract the ID (either \"pk\" or \"pk_id\")\n",
    "                    \"category\": user[\"category\"],\n",
    "                    \"biography\": user[\"biography\"],\n",
    "                    \"followers\": user[\"follower_count\"],\n",
    "                    \"following\": user[\"following_count\"],\n",
    "                    \"is_private\": user[\"is_private\"],\n",
    "                    \"is_business\": user[\"is_business\"],\n",
    "                    \"is_verified\": user[\"is_verified\"],\n",
    "                    \"media_count\": user[\"media_count\"],\n",
    "                    \"fb_page_id\": str(user[\"page_id\"]),\n",
    "                    \"fb_page_name\": user[\"page_name\"],\n",
    "                    \"profile_pic_url\": user[\"profile_pic_url\"],\n",
    "                    \"external_url\": user.get(\n",
    "                        \"external_url\"\n",
    "                    ),  # Use get() to handle missing keys\n",
    "                    \"bio_links\": [\n",
    "                        link[\"url\"] for link in user.get(\"bio_links\", [])\n",
    "                    ],  # Extract URLs from bio links\n",
    "                }\n",
    "            )\n",
    "\n",
    "    # Create a DataFrame from the extracted data\n",
    "    df = pd.DataFrame(extracted_data)\n",
    "\n",
    "    # Export the DataFrame to a CSV file (for Google Sheets)\n",
    "    df.to_csv(output_file, index=False)\n",
    "\n",
    "\n",
    "# Example Usage:\n",
    "extract_profile_data_from_json()  # Using default file names\n",
    "# input_file=\"instagram_profiles.json\",\n",
    "# output_file=\"instagram_profiles.csv\""
   ]
  }
 ],
 "metadata": {
  "kernelspec": {
   "display_name": "sn-env",
   "language": "python",
   "name": "python3"
  },
  "language_info": {
   "codemirror_mode": {
    "name": "ipython",
    "version": 3
   },
   "file_extension": ".py",
   "mimetype": "text/x-python",
   "name": "python",
   "nbconvert_exporter": "python",
   "pygments_lexer": "ipython3",
   "version": "3.12.4"
  }
 },
 "nbformat": 4,
 "nbformat_minor": 2
}
