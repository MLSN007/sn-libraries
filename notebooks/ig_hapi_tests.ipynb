{
 "cells": [
  {
   "cell_type": "markdown",
   "metadata": {},
   "source": [
    "Imports and initialization of variables"
   ]
  },
  {
   "cell_type": "code",
   "execution_count": null,
   "metadata": {},
   "outputs": [],
   "source": [
    "import os\n",
    "import logging\n",
    "import pandas as pd\n",
    "\n",
    "from ig_info_fetcher import IgInfoFetcher\n",
    "from ig_info_analyzer import IgInfoAnalyzer\n",
    "\n",
    "hiker_api_key = os.environ[\"HikerAPI_key\"]\n",
    "\n",
    "# Set up logging\n",
    "logging.basicConfig(level=logging.INFO)"
   ]
  },
  {
   "cell_type": "code",
   "execution_count": null,
   "metadata": {},
   "outputs": [],
   "source": [
    "### ADAPT WITH THE NEW CONFIG"
   ]
  },
  {
   "cell_type": "code",
   "execution_count": null,
   "metadata": {},
   "outputs": [],
   "source": [
    "\n",
    "# Initialize objects and variables\n",
    "fetcher = IgInfoFetcher()\n",
    "analyzer = IgInfoAnalyzer()\n",
    "\n",
    "# Create an empty DataFrame to store profiles (replace previous line)\n",
    "df_profiles = pd.DataFrame()"
   ]
  },
  {
   "cell_type": "code",
   "execution_count": null,
   "metadata": {},
   "outputs": [],
   "source": [
    "# fetch the Ig profiles\n",
    "usernames_to_fetch = [\"marie.travel.world\", \"treasure\", \"eexploreworld\", \n",
    "    \"beutefullplacee\"]\n",
    "\n",
    "input_filename = \"JK_relevant_ig_profiles.json\"\n",
    "fetcher.fetch_and_save_info(usernames_to_fetch, input_filename) \n",
    "\n"
   ]
  },
  {
   "cell_type": "code",
   "execution_count": null,
   "metadata": {},
   "outputs": [],
   "source": [
    "\n",
    "input_filename = \"JK_relevant_ig_profiles.json\"\n",
    "# Extract profile data and create a DataFrame\n",
    "df_profiles = analyzer.extract_info_data_from_json(input_filename)  \n",
    "print(df_profiles)\n",
    "\n",
    "# Save the DataFrame\n",
    "output_filename = \"JK_relevant_ig_profiles.csv\"\n",
    "analyzer.save_to_csv(df_profiles, output_filename)\n",
    "\n"
   ]
  }
 ],
 "metadata": {
  "kernelspec": {
   "display_name": "sn-env",
   "language": "python",
   "name": "python3"
  },
  "language_info": {
   "codemirror_mode": {
    "name": "ipython",
    "version": 3
   },
   "file_extension": ".py",
   "mimetype": "text/x-python",
   "name": "python",
   "nbconvert_exporter": "python",
   "pygments_lexer": "ipython3",
   "version": "3.12.4"
  }
 },
 "nbformat": 4,
 "nbformat_minor": 2
}
